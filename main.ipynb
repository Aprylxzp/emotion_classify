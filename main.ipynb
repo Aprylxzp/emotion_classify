{
 "cells": [
  {
   "cell_type": "markdown",
   "metadata": {},
   "source": [
    "# 1 查看数据集"
   ]
  },
  {
   "cell_type": "code",
   "execution_count": 1,
   "metadata": {},
   "outputs": [],
   "source": [
    "# 使用pandas读取数据集\n",
    "import pandas as pd\n",
    "data = pd.read_csv('data\\\\OCEMOTION.csv', sep='\\t',header=None)\n",
    "# 由于该数据集没有列名，故需要为其添加上列名以便于更好处理\n",
    "data.columns = [\"id\", \"text_a\", \"label\"]"
   ]
  },
  {
   "cell_type": "code",
   "execution_count": 2,
   "metadata": {},
   "outputs": [
    {
     "data": {
      "application/vnd.microsoft.datawrangler.viewer.v0+json": {
       "columns": [
        {
         "name": "index",
         "rawType": "int64",
         "type": "integer"
        },
        {
         "name": "id",
         "rawType": "int64",
         "type": "integer"
        },
        {
         "name": "text_a",
         "rawType": "object",
         "type": "string"
        },
        {
         "name": "label",
         "rawType": "object",
         "type": "string"
        }
       ],
       "conversionMethod": "pd.DataFrame",
       "ref": "5ee09dc6-a4af-4bec-9504-98ca789a0996",
       "rows": [
        [
         "0",
         "0",
         "'你知道多伦多附近有什么吗?哈哈有破布耶.真的书上写的你听哦.你家那块破布是世界上最大的破布,哈哈,骗你的啦它是说尼加拉瓜瀑布是世界上最大的瀑布啦.哈哈哈''爸爸,她的头发耶!我们大扫除椅子都要翻上来我看到木头缝里有头发.一定是xx以前夹到的,你说是不是?生病",
         "sadness"
        ],
        [
         "1",
         "1",
         "平安夜,圣诞节,都过了,我很难过,和妈妈吵了两天,以死相逼才终止战争,现在还处于冷战中。",
         "sadness"
        ],
        [
         "2",
         "2",
         "我只是自私了一点,做自己想做的事情!",
         "sadness"
        ],
        [
         "3",
         "3",
         "让感动的不仅仅是雨过天晴,还有泪水流下来的迷人眼神。",
         "happiness"
        ],
        [
         "4",
         "4",
         "好日子",
         "happiness"
        ]
       ],
       "shape": {
        "columns": 3,
        "rows": 5
       }
      },
      "text/html": [
       "<div>\n",
       "<style scoped>\n",
       "    .dataframe tbody tr th:only-of-type {\n",
       "        vertical-align: middle;\n",
       "    }\n",
       "\n",
       "    .dataframe tbody tr th {\n",
       "        vertical-align: top;\n",
       "    }\n",
       "\n",
       "    .dataframe thead th {\n",
       "        text-align: right;\n",
       "    }\n",
       "</style>\n",
       "<table border=\"1\" class=\"dataframe\">\n",
       "  <thead>\n",
       "    <tr style=\"text-align: right;\">\n",
       "      <th></th>\n",
       "      <th>id</th>\n",
       "      <th>text_a</th>\n",
       "      <th>label</th>\n",
       "    </tr>\n",
       "  </thead>\n",
       "  <tbody>\n",
       "    <tr>\n",
       "      <th>0</th>\n",
       "      <td>0</td>\n",
       "      <td>'你知道多伦多附近有什么吗?哈哈有破布耶.真的书上写的你听哦.你家那块破布是世界上最大的破布...</td>\n",
       "      <td>sadness</td>\n",
       "    </tr>\n",
       "    <tr>\n",
       "      <th>1</th>\n",
       "      <td>1</td>\n",
       "      <td>平安夜,圣诞节,都过了,我很难过,和妈妈吵了两天,以死相逼才终止战争,现在还处于冷战中。</td>\n",
       "      <td>sadness</td>\n",
       "    </tr>\n",
       "    <tr>\n",
       "      <th>2</th>\n",
       "      <td>2</td>\n",
       "      <td>我只是自私了一点,做自己想做的事情!</td>\n",
       "      <td>sadness</td>\n",
       "    </tr>\n",
       "    <tr>\n",
       "      <th>3</th>\n",
       "      <td>3</td>\n",
       "      <td>让感动的不仅仅是雨过天晴,还有泪水流下来的迷人眼神。</td>\n",
       "      <td>happiness</td>\n",
       "    </tr>\n",
       "    <tr>\n",
       "      <th>4</th>\n",
       "      <td>4</td>\n",
       "      <td>好日子</td>\n",
       "      <td>happiness</td>\n",
       "    </tr>\n",
       "  </tbody>\n",
       "</table>\n",
       "</div>"
      ],
      "text/plain": [
       "   id                                             text_a      label\n",
       "0   0  '你知道多伦多附近有什么吗?哈哈有破布耶.真的书上写的你听哦.你家那块破布是世界上最大的破布...    sadness\n",
       "1   1       平安夜,圣诞节,都过了,我很难过,和妈妈吵了两天,以死相逼才终止战争,现在还处于冷战中。    sadness\n",
       "2   2                                 我只是自私了一点,做自己想做的事情!    sadness\n",
       "3   3                         让感动的不仅仅是雨过天晴,还有泪水流下来的迷人眼神。  happiness\n",
       "4   4                                                好日子  happiness"
      ]
     },
     "execution_count": 2,
     "metadata": {},
     "output_type": "execute_result"
    }
   ],
   "source": [
    "# 查看数据前5条内容\n",
    "data.head()"
   ]
  },
  {
   "cell_type": "code",
   "execution_count": 3,
   "metadata": {},
   "outputs": [
    {
     "name": "stdout",
     "output_type": "stream",
     "text": [
      "<class 'pandas.core.frame.DataFrame'>\n",
      "RangeIndex: 35694 entries, 0 to 35693\n",
      "Data columns (total 3 columns):\n",
      " #   Column  Non-Null Count  Dtype \n",
      "---  ------  --------------  ----- \n",
      " 0   id      35694 non-null  int64 \n",
      " 1   text_a  35694 non-null  object\n",
      " 2   label   35694 non-null  object\n",
      "dtypes: int64(1), object(2)\n",
      "memory usage: 836.7+ KB\n"
     ]
    }
   ],
   "source": [
    "# 查看数据文件信息，可以看出总共有35315条数据\n",
    "data.info()"
   ]
  },
  {
   "cell_type": "code",
   "execution_count": 4,
   "metadata": {},
   "outputs": [
    {
     "data": {
      "text/plain": [
       "count    35694.000000\n",
       "mean        45.440074\n",
       "std         37.990767\n",
       "min          2.000000\n",
       "25%         16.000000\n",
       "50%         32.000000\n",
       "75%         64.000000\n",
       "max        208.000000\n",
       "Name: text_a, dtype: float64"
      ]
     },
     "execution_count": 4,
     "metadata": {},
     "output_type": "execute_result"
    }
   ],
   "source": [
    "# 统计评论文本长度信息,从平均长度可以看出属于短文本\n",
    "data['text_a'].map(len).describe()"
   ]
  },
  {
   "cell_type": "code",
   "execution_count": 5,
   "metadata": {},
   "outputs": [
    {
     "data": {
      "text/plain": [
       "label\n",
       "sadness      12604\n",
       "happiness     8981\n",
       "disgust       4405\n",
       "anger         4115\n",
       "like          4087\n",
       "surprise       908\n",
       "fear           594\n",
       "Name: count, dtype: int64"
      ]
     },
     "execution_count": 5,
     "metadata": {},
     "output_type": "execute_result"
    }
   ],
   "source": [
    "# 统计数据集中7种情感类别标签的分布情况\n",
    "data['label'].value_counts()"
   ]
  },
  {
   "cell_type": "code",
   "execution_count": 7,
   "metadata": {},
   "outputs": [
    {
     "data": {
      "image/png": "[encoded data removed]",
      "text/plain": [
       "<Figure size 640x480 with 1 Axes>"
      ]
     },
     "metadata": {},
     "output_type": "display_data"
    }
   ],
   "source": [
    "# 可视化标签分布情况\n",
    "%matplotlib inline\n",
    "data['label'].value_counts(normalize=True).plot(kind='bar');"
   ]
  },
  {
   "cell_type": "markdown",
   "metadata": {},
   "source": [
    "# 2 数据清洗\n",
    "> 清洗字符\n",
    "\n",
    "> 清洗表情 表情变成中文"
   ]
  },
  {
   "cell_type": "code",
   "execution_count": 8,
   "metadata": {},
   "outputs": [],
   "source": [
    "# 导入所需包\n",
    "import re\n",
    "import os\n",
    "import shutil\n",
    "from tqdm import tqdm\n",
    "from collections import defaultdict\n",
    "\n",
    "# 定义数据清洗函数:\n",
    "\n",
    "# 清洗分隔字符\n",
    "def clean_duplication(text):\n",
    "    left_square_brackets_pat = re.compile(r'\\[+')\n",
    "    right_square_brackets_pat = re.compile(r'\\]+')\n",
    "    punct = [',', '\\\\.', '\\\\!', '，', '。', '！', '、', '\\?', '？']\n",
    "\n",
    "    def replace(string, char):\n",
    "        pattern = char + '{2,}'\n",
    "        if char.startswith('\\\\'):\n",
    "            char = char[1:]\n",
    "        string = re.sub(pattern, char, string)\n",
    "        return string\n",
    "\n",
    "    text = left_square_brackets_pat.sub('', text)\n",
    "    text = right_square_brackets_pat.sub('', text)\n",
    "    for p in punct:\n",
    "        text = replace(text, p)\n",
    "    return text\n",
    "\n",
    "def emoji2zh(text, inverse_emoji_dict):\n",
    "    for emoji, ch in inverse_emoji_dict.items():\n",
    "        text = text.replace(emoji, ch)\n",
    "    return text\n",
    "\n",
    "# 清洗数据集中特殊表情，通过json文件的映射用中文替代表情\n",
    "def clean_emotion(data_path, emoji2zh_data, save_dir, train=True):\n",
    "    data = defaultdict(list)\n",
    "    filename = os.path.basename(data_path)\n",
    "    with open(data_path, 'r', encoding='utf8') as f:\n",
    "        texts = f.readlines()\n",
    "        for line in tqdm(texts, desc=data_path):\n",
    "            if train:\n",
    "                id_, text, label = line.strip().split('\\t')\n",
    "            else:\n",
    "                id_, text = line.strip().split('\\t')\n",
    "            data['id'].append(id_)\n",
    "            text = emoji2zh(text, emoji2zh_data)\n",
    "            text = clean_duplication(text)\n",
    "            data['text_a'].append(text)\n",
    "            if train:\n",
    "                data['label'].append(label)\n",
    "    df = pd.DataFrame(data)\n",
    "    if not os.path.exists(save_dir):\n",
    "        os.makedirs(save_dir)\n",
    "    df.to_csv(os.path.join(save_dir, filename), index=False,\n",
    "              encoding='utf8', header=False, sep='\\t')\n",
    "    return df"
   ]
  },
  {
   "cell_type": "code",
   "execution_count": 9,
   "metadata": {},
   "outputs": [],
   "source": [
    "# 读取表情映射json文件（放在work目录下，文件名为emoji2zh.json），用于替换表情为中文字符\n",
    "import json\n",
    "emoji2zh_data = json.load(open('work\\\\emoji2zh.json', 'r', encoding='utf8'))"
   ]
  },
  {
   "cell_type": "code",
   "execution_count": 10,
   "metadata": {},
   "outputs": [
    {
     "name": "stderr",
     "output_type": "stream",
     "text": [
      "data\\OCEMOTION.csv: 100%|██████████| 35694/35694 [00:02<00:00, 17173.51it/s]\n"
     ]
    }
   ],
   "source": [
    "# 对数据进行数据清洗\n",
    "data = clean_emotion('data\\\\OCEMOTION.csv',emoji2zh_data,'./')"
   ]
  },
  {
   "cell_type": "code",
   "execution_count": 11,
   "metadata": {},
   "outputs": [
    {
     "data": {
      "application/vnd.microsoft.datawrangler.viewer.v0+json": {
       "columns": [
        {
         "name": "index",
         "rawType": "int64",
         "type": "integer"
        },
        {
         "name": "id",
         "rawType": "object",
         "type": "string"
        },
        {
         "name": "text_a",
         "rawType": "object",
         "type": "string"
        },
        {
         "name": "label",
         "rawType": "object",
         "type": "string"
        }
       ],
       "conversionMethod": "pd.DataFrame",
       "ref": "36df56d3-2e02-4660-b3d5-5c8a842bd834",
       "rows": [
        [
         "0",
         "0",
         "'你知道多伦多附近有什么吗?哈哈有破布耶.真的书上写的你听哦.你家那块破布是世界上最大的破布,哈哈,骗你的啦它是说尼加拉瓜瀑布是世界上最大的瀑布啦.哈哈哈''爸爸,她的头发耶!我们大扫除椅子都要翻上来我看到木头缝里有头发.一定是xx以前夹到的,你说是不是?生病",
         "sadness"
        ],
        [
         "1",
         "1",
         "平安夜,圣诞节,都过了,我很难过,和妈妈吵了两天,以死相逼才终止战争,现在还处于冷战中。",
         "sadness"
        ],
        [
         "2",
         "2",
         "我只是自私了一点,做自己想做的事情!",
         "sadness"
        ],
        [
         "3",
         "3",
         "让感动的不仅仅是雨过天晴,还有泪水流下来的迷人眼神。",
         "happiness"
        ],
        [
         "4",
         "4",
         "好日子",
         "happiness"
        ],
        [
         "5",
         "5",
         "每天都学到这么晚。总是兴致勃勃想着明天要七点起床继续看书。就是闹钟从来不知道何时关的。一觉醒来最早也十点了。晚上睡觉倒头就睡过去了。高考都没有这么努力过。真心累。不过过的很充实。最想说的是。这才是他妈的人生啊。这才是像个人样的活着啊。泪泪泪泪泪",
         "like"
        ],
        [
         "6",
         "6",
         "终于把身份证办了。",
         "happiness"
        ],
        [
         "7",
         "7",
         "奖学金终于到账呐.终于可以填翻笔数呐~再唔黎我就穷死噶呐~thankgod!嘻嘻嘻嘻嘻嘻",
         "happiness"
        ],
        [
         "8",
         "8",
         "高中的时候,一次上午上课,老师大喊:谁敢不服我!一个同学心血来潮,大喊道:我不服!老师愣了一下,又大喊道:谁敢不服我俩!老师您是要闹哪样?",
         "happiness"
        ],
        [
         "9",
         "9",
         "汉子你尽快弃暗投明吧我忙得像只狗没空理你啊",
         "sadness"
        ],
        [
         "10",
         "10",
         "相互冲突的两种精神,都值得我们同情。黑格尔",
         "sadness"
        ],
        [
         "11",
         "11",
         "时间或许会冲淡我们的记忆,但定格那一刻的时光将永远凝固或封存,我们都不会忘记。让生命前进的动力也许就是日复一日的安定,把小小的幸福摄取进我们的细胞,让它感知美好的滋味,于是乎我们就会多一点微笑在脸庞,因为这样的你最美。感恩于心,晚安。",
         "happiness"
        ],
        [
         "12",
         "12",
         "永华兄说要性格测试然后重新分组,阿杰气得说,妈的,全填一样的答案。当时真的很感动。前几天我对他们说,我们最后一天的时候拍照留念好不好。被他们集体嫌弃了。今天赖赖他们组在那里照来照去的,我羡慕得对邝说,他们组好好玩。阿漫这时来了一句,我们组不好玩吗?我吼回去,你们又不肯拍!",
         "happiness"
        ],
        [
         "13",
         "13",
         "你给我的惊喜我都一直记得而我总是没有勇气为你做些什么",
         "sadness"
        ],
        [
         "14",
         "14",
         "以后不能做自己喜欢的事而之后又要往哪里前进一片茫然",
         "sadness"
        ],
        [
         "15",
         "15",
         "很简单我不喜欢你玩游戏",
         "anger"
        ],
        [
         "16",
         "16",
         "你也不用说对不起,只是,若相惜",
         "sadness"
        ],
        [
         "17",
         "17",
         "也许你们都说得对“死心吧”一开始就是个错误将错就错我不想放弃让自己慢慢地淡忘。喜欢是一种错误旁人看了。呵呵是愚蠢花痴心累心寒都只有自己感受到看看。眼泪流了在一个很深很深很深的内心深处每天微笑待人可对自己失约了面对感情一个人又傻傻的哭泣。(",
         "sadness"
        ],
        [
         "18",
         "18",
         "在电话接通后,老妈第一句话是:还有家啊?换了电话都没说声。瞬间觉得无地自容。黑线",
         "sadness"
        ],
        [
         "19",
         "19",
         "脑海中那道身影",
         "sadness"
        ],
        [
         "20",
         "20",
         "明明很在乎也会把你推开,因为我知道既然没法拥有,只能早些割裂。哪怕是自欺欺人的假象也让我有些许心安。",
         "sadness"
        ],
        [
         "21",
         "21",
         "4.这都不是偶然的事情,这是他明白这个事实真相,对生死看得很淡薄,知道要认真努力修行,所以死了之后,自己可以作主,自己可以选择到哪一道去。如果在临终时,一慌一乱,你对身体很留恋,对家亲眷属很留恋,那你往往就到三途去了!",
         "fear"
        ],
        [
         "22",
         "22",
         "我关注列表中的人物莫名消失了。",
         "surprise"
        ],
        [
         "23",
         "23",
         "鼻涕止不住地往下流,小鼻子让我弄得红红得,受了很大的伤!这得到什么时候才好啊!可恶的感冒!恁娘!",
         "sadness"
        ],
        [
         "24",
         "24",
         "你去网上找些漂亮可爱的套套呗",
         "like"
        ],
        [
         "25",
         "25",
         "这里的取款机居然全部暂停使用",
         "anger"
        ],
        [
         "26",
         "26",
         "没有美图秀秀的电脑还能叫电脑吗。",
         "sadness"
        ],
        [
         "27",
         "27",
         "+每次过年回家买不到票的时候,我就会问快递公司的,你们公司多少钱能把我寄回家啊?",
         "sadness"
        ],
        [
         "28",
         "28",
         "今天把平抛运动的题解决了!啊哈,我感觉哦幸福了.好嘞。晚安我周围的一切打哈气打哈气",
         "happiness"
        ],
        [
         "29",
         "29",
         ",人生最大的幸福就是早起有一碗冬瓜排骨汤的米粉,还有我最喜欢的台湾芗园果仁方块酥,还可以一边看完喜欢的韩剧。幸福啊。害羞亲亲",
         "happiness"
        ],
        [
         "30",
         "30",
         "我我我我我我烦操抓狂",
         "anger"
        ],
        [
         "31",
         "31",
         "技校生就这么开放么?据说有直接带回男生宿舍的,据说有直播的,",
         "surprise"
        ],
        [
         "32",
         "32",
         "头里面空荡荡的,如果上帝非要小人得志,那么我我只能无奈了",
         "sadness"
        ],
        [
         "33",
         "33",
         "一打开集中考试的考试安排,我震惊了。震惊",
         "surprise"
        ],
        [
         "34",
         "34",
         "心情总是莫名的不好,委屈",
         "anger"
        ],
        [
         "35",
         "35",
         "时而想回到大学生活,因为他们会在我失望难过的时候先打击一番,然后全心全意的安慰我。至少不是现在这般。毕业了,所有的一切都不一样了,当初那些一起逃课一起吃饭一起玩乐的朋友早已各奔东西,而现在的身边总有那么一群无赖让人觉得呕心,甚至呕心到半夜三更在睡梦中都会醒来。",
         "fear"
        ],
        [
         "36",
         "36",
         "越想越多越想越绝望",
         "sadness"
        ],
        [
         "37",
         "37",
         "你不喜欢的我像被世界抛弃了一样只因为不够漂亮不够优秀",
         "sadness"
        ],
        [
         "38",
         "38",
         "幸福就是当相爱的人都变老的时候,还相看两不厌。幸福就是可以一直都在一起,合起来的日子是一生一世,从人间到天堂.",
         "happiness"
        ],
        [
         "39",
         "39",
         "现在很多孩子因为种种原因不得不去网吧,而正规网吧不能进,黑网吧又鱼龙混杂。呼吁教育部门能够专门为学生开设一个健康绿色的网吧,或着在正规网吧为学生建立一个绿色上网地带.",
         "sadness"
        ],
        [
         "40",
         "40",
         "自古庸医多害人!",
         "anger"
        ],
        [
         "41",
         "41",
         "把聚会当做一次分手!同学们,夏天再聚首!害羞害羞",
         "sadness"
        ],
        [
         "42",
         "42",
         "幸福其实很简单",
         "happiness"
        ],
        [
         "43",
         "43",
         "美餐一天。回家可以陪家人,可以换心情,还可以善待我的胃。",
         "happiness"
        ],
        [
         "44",
         "44",
         "隔壁的隔壁一同学戴着耳塞听歌好high,那个噪音大得我都能识别那曲目,从那英的征服跨越到taylor的歌,把我女神的歌毁了泪,实在没心情看书了,只好采取无声的抗议,迅速捡本书到前排,等我看完一章回原位置,那位high歌同学跑了,瞬间尴尬.我就纳闷旁边的人都聋了,还是以为我有毛病啊汗.",
         "disgust"
        ],
        [
         "45",
         "45",
         "一生之中,无论深爱过几个人,我们爱的都是同一个人,一个很像我,跟我是同类;另一个完全不像我,却弥补了我的缺失。而其实,他们都是我.",
         "sadness"
        ],
        [
         "46",
         "46",
         "谢谢大家一年来对我的关注,虽然你们都不露面、不评论,这显然是我的博内容不够完善。仍然谢谢大家对我的包容,即使我要告诉你们我刚才失恋的事情。希望大家在下年仍然关注我,谢谢!对不起。",
         "sadness"
        ],
        [
         "47",
         "47",
         "一回家就生病了,昨晚连饭都没次,晚上8点就睡了,但每隔4小时就醒一次是什么破节奏,头晕,头痛,浑身发软酸痛,我想次饭但是没胃口,掀桌!",
         "happiness"
        ],
        [
         "48",
         "48",
         "无论做什么都要带上自己的好心情",
         "happiness"
        ],
        [
         "49",
         "49",
         "别问我幸福是什么?其实幸福很简单!今天天气温暖,阳光和煦。陪家人一起去逛街吃晚饭。熊猫熊猫熊猫",
         "happiness"
        ]
       ],
       "shape": {
        "columns": 3,
        "rows": 35694
       }
      },
      "text/html": [
       "<div>\n",
       "<style scoped>\n",
       "    .dataframe tbody tr th:only-of-type {\n",
       "        vertical-align: middle;\n",
       "    }\n",
       "\n",
       "    .dataframe tbody tr th {\n",
       "        vertical-align: top;\n",
       "    }\n",
       "\n",
       "    .dataframe thead th {\n",
       "        text-align: right;\n",
       "    }\n",
       "</style>\n",
       "<table border=\"1\" class=\"dataframe\">\n",
       "  <thead>\n",
       "    <tr style=\"text-align: right;\">\n",
       "      <th></th>\n",
       "      <th>id</th>\n",
       "      <th>text_a</th>\n",
       "      <th>label</th>\n",
       "    </tr>\n",
       "  </thead>\n",
       "  <tbody>\n",
       "    <tr>\n",
       "      <th>0</th>\n",
       "      <td>0</td>\n",
       "      <td>'你知道多伦多附近有什么吗?哈哈有破布耶.真的书上写的你听哦.你家那块破布是世界上最大的破布...</td>\n",
       "      <td>sadness</td>\n",
       "    </tr>\n",
       "    <tr>\n",
       "      <th>1</th>\n",
       "      <td>1</td>\n",
       "      <td>平安夜,圣诞节,都过了,我很难过,和妈妈吵了两天,以死相逼才终止战争,现在还处于冷战中。</td>\n",
       "      <td>sadness</td>\n",
       "    </tr>\n",
       "    <tr>\n",
       "      <th>2</th>\n",
       "      <td>2</td>\n",
       "      <td>我只是自私了一点,做自己想做的事情!</td>\n",
       "      <td>sadness</td>\n",
       "    </tr>\n",
       "    <tr>\n",
       "      <th>3</th>\n",
       "      <td>3</td>\n",
       "      <td>让感动的不仅仅是雨过天晴,还有泪水流下来的迷人眼神。</td>\n",
       "      <td>happiness</td>\n",
       "    </tr>\n",
       "    <tr>\n",
       "      <th>4</th>\n",
       "      <td>4</td>\n",
       "      <td>好日子</td>\n",
       "      <td>happiness</td>\n",
       "    </tr>\n",
       "    <tr>\n",
       "      <th>...</th>\n",
       "      <td>...</td>\n",
       "      <td>...</td>\n",
       "      <td>...</td>\n",
       "    </tr>\n",
       "    <tr>\n",
       "      <th>35689</th>\n",
       "      <td>35689</td>\n",
       "      <td>跟两位好友吃了一顿手包饺子九菜味煎的食得好饱馋嘴【能吃到饱的感觉真幸福满足</td>\n",
       "      <td>happiness</td>\n",
       "    </tr>\n",
       "    <tr>\n",
       "      <th>35690</th>\n",
       "      <td>35690</td>\n",
       "      <td>你只看到我的旧坑,却没看到我又开了新坑;你有你的规则,我有我的潜规则;你否定bg,我决定必基...</td>\n",
       "      <td>happiness</td>\n",
       "    </tr>\n",
       "    <tr>\n",
       "      <th>35691</th>\n",
       "      <td>35691</td>\n",
       "      <td>欠你的,伤你的,还有机会补偿吗?</td>\n",
       "      <td>sadness</td>\n",
       "    </tr>\n",
       "    <tr>\n",
       "      <th>35692</th>\n",
       "      <td>35692</td>\n",
       "      <td>昨天晚上失眠啊,失了一晚上啊,早上要睡着结果要上班了。今天上午还开一上午的会,来不起了啊。泪</td>\n",
       "      <td>sadness</td>\n",
       "    </tr>\n",
       "    <tr>\n",
       "      <th>35693</th>\n",
       "      <td>35693</td>\n",
       "      <td>听说你最近很上进哦,哈!</td>\n",
       "      <td>happiness</td>\n",
       "    </tr>\n",
       "  </tbody>\n",
       "</table>\n",
       "<p>35694 rows × 3 columns</p>\n",
       "</div>"
      ],
      "text/plain": [
       "          id                                             text_a      label\n",
       "0          0  '你知道多伦多附近有什么吗?哈哈有破布耶.真的书上写的你听哦.你家那块破布是世界上最大的破布...    sadness\n",
       "1          1       平安夜,圣诞节,都过了,我很难过,和妈妈吵了两天,以死相逼才终止战争,现在还处于冷战中。    sadness\n",
       "2          2                                 我只是自私了一点,做自己想做的事情!    sadness\n",
       "3          3                         让感动的不仅仅是雨过天晴,还有泪水流下来的迷人眼神。  happiness\n",
       "4          4                                                好日子  happiness\n",
       "...      ...                                                ...        ...\n",
       "35689  35689              跟两位好友吃了一顿手包饺子九菜味煎的食得好饱馋嘴【能吃到饱的感觉真幸福满足  happiness\n",
       "35690  35690  你只看到我的旧坑,却没看到我又开了新坑;你有你的规则,我有我的潜规则;你否定bg,我决定必基...  happiness\n",
       "35691  35691                                   欠你的,伤你的,还有机会补偿吗?    sadness\n",
       "35692  35692     昨天晚上失眠啊,失了一晚上啊,早上要睡着结果要上班了。今天上午还开一上午的会,来不起了啊。泪    sadness\n",
       "35693  35693                                       听说你最近很上进哦,哈!  happiness\n",
       "\n",
       "[35694 rows x 3 columns]"
      ]
     },
     "execution_count": 11,
     "metadata": {},
     "output_type": "execute_result"
    }
   ],
   "source": [
    "data"
   ]
  },
  {
   "cell_type": "code",
   "execution_count": 12,
   "metadata": {},
   "outputs": [],
   "source": [
    "# 去掉无用的id列，保存其格式为text_a,label\n",
    "data = data[['text_a', 'label']]"
   ]
  },
  {
   "cell_type": "code",
   "execution_count": 13,
   "metadata": {},
   "outputs": [
    {
     "data": {
      "application/vnd.microsoft.datawrangler.viewer.v0+json": {
       "columns": [
        {
         "name": "index",
         "rawType": "int64",
         "type": "integer"
        },
        {
         "name": "text_a",
         "rawType": "object",
         "type": "string"
        },
        {
         "name": "label",
         "rawType": "object",
         "type": "string"
        }
       ],
       "conversionMethod": "pd.DataFrame",
       "ref": "3ace952e-1efe-4f8c-92ca-6d34cc0fcf5a",
       "rows": [
        [
         "0",
         "'你知道多伦多附近有什么吗?哈哈有破布耶.真的书上写的你听哦.你家那块破布是世界上最大的破布,哈哈,骗你的啦它是说尼加拉瓜瀑布是世界上最大的瀑布啦.哈哈哈''爸爸,她的头发耶!我们大扫除椅子都要翻上来我看到木头缝里有头发.一定是xx以前夹到的,你说是不是?生病",
         "sadness"
        ],
        [
         "1",
         "平安夜,圣诞节,都过了,我很难过,和妈妈吵了两天,以死相逼才终止战争,现在还处于冷战中。",
         "sadness"
        ],
        [
         "2",
         "我只是自私了一点,做自己想做的事情!",
         "sadness"
        ],
        [
         "3",
         "让感动的不仅仅是雨过天晴,还有泪水流下来的迷人眼神。",
         "happiness"
        ],
        [
         "4",
         "好日子",
         "happiness"
        ],
        [
         "5",
         "每天都学到这么晚。总是兴致勃勃想着明天要七点起床继续看书。就是闹钟从来不知道何时关的。一觉醒来最早也十点了。晚上睡觉倒头就睡过去了。高考都没有这么努力过。真心累。不过过的很充实。最想说的是。这才是他妈的人生啊。这才是像个人样的活着啊。泪泪泪泪泪",
         "like"
        ],
        [
         "6",
         "终于把身份证办了。",
         "happiness"
        ],
        [
         "7",
         "奖学金终于到账呐.终于可以填翻笔数呐~再唔黎我就穷死噶呐~thankgod!嘻嘻嘻嘻嘻嘻",
         "happiness"
        ],
        [
         "8",
         "高中的时候,一次上午上课,老师大喊:谁敢不服我!一个同学心血来潮,大喊道:我不服!老师愣了一下,又大喊道:谁敢不服我俩!老师您是要闹哪样?",
         "happiness"
        ],
        [
         "9",
         "汉子你尽快弃暗投明吧我忙得像只狗没空理你啊",
         "sadness"
        ],
        [
         "10",
         "相互冲突的两种精神,都值得我们同情。黑格尔",
         "sadness"
        ],
        [
         "11",
         "时间或许会冲淡我们的记忆,但定格那一刻的时光将永远凝固或封存,我们都不会忘记。让生命前进的动力也许就是日复一日的安定,把小小的幸福摄取进我们的细胞,让它感知美好的滋味,于是乎我们就会多一点微笑在脸庞,因为这样的你最美。感恩于心,晚安。",
         "happiness"
        ],
        [
         "12",
         "永华兄说要性格测试然后重新分组,阿杰气得说,妈的,全填一样的答案。当时真的很感动。前几天我对他们说,我们最后一天的时候拍照留念好不好。被他们集体嫌弃了。今天赖赖他们组在那里照来照去的,我羡慕得对邝说,他们组好好玩。阿漫这时来了一句,我们组不好玩吗?我吼回去,你们又不肯拍!",
         "happiness"
        ],
        [
         "13",
         "你给我的惊喜我都一直记得而我总是没有勇气为你做些什么",
         "sadness"
        ],
        [
         "14",
         "以后不能做自己喜欢的事而之后又要往哪里前进一片茫然",
         "sadness"
        ],
        [
         "15",
         "很简单我不喜欢你玩游戏",
         "anger"
        ],
        [
         "16",
         "你也不用说对不起,只是,若相惜",
         "sadness"
        ],
        [
         "17",
         "也许你们都说得对“死心吧”一开始就是个错误将错就错我不想放弃让自己慢慢地淡忘。喜欢是一种错误旁人看了。呵呵是愚蠢花痴心累心寒都只有自己感受到看看。眼泪流了在一个很深很深很深的内心深处每天微笑待人可对自己失约了面对感情一个人又傻傻的哭泣。(",
         "sadness"
        ],
        [
         "18",
         "在电话接通后,老妈第一句话是:还有家啊?换了电话都没说声。瞬间觉得无地自容。黑线",
         "sadness"
        ],
        [
         "19",
         "脑海中那道身影",
         "sadness"
        ],
        [
         "20",
         "明明很在乎也会把你推开,因为我知道既然没法拥有,只能早些割裂。哪怕是自欺欺人的假象也让我有些许心安。",
         "sadness"
        ],
        [
         "21",
         "4.这都不是偶然的事情,这是他明白这个事实真相,对生死看得很淡薄,知道要认真努力修行,所以死了之后,自己可以作主,自己可以选择到哪一道去。如果在临终时,一慌一乱,你对身体很留恋,对家亲眷属很留恋,那你往往就到三途去了!",
         "fear"
        ],
        [
         "22",
         "我关注列表中的人物莫名消失了。",
         "surprise"
        ],
        [
         "23",
         "鼻涕止不住地往下流,小鼻子让我弄得红红得,受了很大的伤!这得到什么时候才好啊!可恶的感冒!恁娘!",
         "sadness"
        ],
        [
         "24",
         "你去网上找些漂亮可爱的套套呗",
         "like"
        ],
        [
         "25",
         "这里的取款机居然全部暂停使用",
         "anger"
        ],
        [
         "26",
         "没有美图秀秀的电脑还能叫电脑吗。",
         "sadness"
        ],
        [
         "27",
         "+每次过年回家买不到票的时候,我就会问快递公司的,你们公司多少钱能把我寄回家啊?",
         "sadness"
        ],
        [
         "28",
         "今天把平抛运动的题解决了!啊哈,我感觉哦幸福了.好嘞。晚安我周围的一切打哈气打哈气",
         "happiness"
        ],
        [
         "29",
         ",人生最大的幸福就是早起有一碗冬瓜排骨汤的米粉,还有我最喜欢的台湾芗园果仁方块酥,还可以一边看完喜欢的韩剧。幸福啊。害羞亲亲",
         "happiness"
        ],
        [
         "30",
         "我我我我我我烦操抓狂",
         "anger"
        ],
        [
         "31",
         "技校生就这么开放么?据说有直接带回男生宿舍的,据说有直播的,",
         "surprise"
        ],
        [
         "32",
         "头里面空荡荡的,如果上帝非要小人得志,那么我我只能无奈了",
         "sadness"
        ],
        [
         "33",
         "一打开集中考试的考试安排,我震惊了。震惊",
         "surprise"
        ],
        [
         "34",
         "心情总是莫名的不好,委屈",
         "anger"
        ],
        [
         "35",
         "时而想回到大学生活,因为他们会在我失望难过的时候先打击一番,然后全心全意的安慰我。至少不是现在这般。毕业了,所有的一切都不一样了,当初那些一起逃课一起吃饭一起玩乐的朋友早已各奔东西,而现在的身边总有那么一群无赖让人觉得呕心,甚至呕心到半夜三更在睡梦中都会醒来。",
         "fear"
        ],
        [
         "36",
         "越想越多越想越绝望",
         "sadness"
        ],
        [
         "37",
         "你不喜欢的我像被世界抛弃了一样只因为不够漂亮不够优秀",
         "sadness"
        ],
        [
         "38",
         "幸福就是当相爱的人都变老的时候,还相看两不厌。幸福就是可以一直都在一起,合起来的日子是一生一世,从人间到天堂.",
         "happiness"
        ],
        [
         "39",
         "现在很多孩子因为种种原因不得不去网吧,而正规网吧不能进,黑网吧又鱼龙混杂。呼吁教育部门能够专门为学生开设一个健康绿色的网吧,或着在正规网吧为学生建立一个绿色上网地带.",
         "sadness"
        ],
        [
         "40",
         "自古庸医多害人!",
         "anger"
        ],
        [
         "41",
         "把聚会当做一次分手!同学们,夏天再聚首!害羞害羞",
         "sadness"
        ],
        [
         "42",
         "幸福其实很简单",
         "happiness"
        ],
        [
         "43",
         "美餐一天。回家可以陪家人,可以换心情,还可以善待我的胃。",
         "happiness"
        ],
        [
         "44",
         "隔壁的隔壁一同学戴着耳塞听歌好high,那个噪音大得我都能识别那曲目,从那英的征服跨越到taylor的歌,把我女神的歌毁了泪,实在没心情看书了,只好采取无声的抗议,迅速捡本书到前排,等我看完一章回原位置,那位high歌同学跑了,瞬间尴尬.我就纳闷旁边的人都聋了,还是以为我有毛病啊汗.",
         "disgust"
        ],
        [
         "45",
         "一生之中,无论深爱过几个人,我们爱的都是同一个人,一个很像我,跟我是同类;另一个完全不像我,却弥补了我的缺失。而其实,他们都是我.",
         "sadness"
        ],
        [
         "46",
         "谢谢大家一年来对我的关注,虽然你们都不露面、不评论,这显然是我的博内容不够完善。仍然谢谢大家对我的包容,即使我要告诉你们我刚才失恋的事情。希望大家在下年仍然关注我,谢谢!对不起。",
         "sadness"
        ],
        [
         "47",
         "一回家就生病了,昨晚连饭都没次,晚上8点就睡了,但每隔4小时就醒一次是什么破节奏,头晕,头痛,浑身发软酸痛,我想次饭但是没胃口,掀桌!",
         "happiness"
        ],
        [
         "48",
         "无论做什么都要带上自己的好心情",
         "happiness"
        ],
        [
         "49",
         "别问我幸福是什么?其实幸福很简单!今天天气温暖,阳光和煦。陪家人一起去逛街吃晚饭。熊猫熊猫熊猫",
         "happiness"
        ]
       ],
       "shape": {
        "columns": 2,
        "rows": 35694
       }
      },
      "text/html": [
       "<div>\n",
       "<style scoped>\n",
       "    .dataframe tbody tr th:only-of-type {\n",
       "        vertical-align: middle;\n",
       "    }\n",
       "\n",
       "    .dataframe tbody tr th {\n",
       "        vertical-align: top;\n",
       "    }\n",
       "\n",
       "    .dataframe thead th {\n",
       "        text-align: right;\n",
       "    }\n",
       "</style>\n",
       "<table border=\"1\" class=\"dataframe\">\n",
       "  <thead>\n",
       "    <tr style=\"text-align: right;\">\n",
       "      <th></th>\n",
       "      <th>text_a</th>\n",
       "      <th>label</th>\n",
       "    </tr>\n",
       "  </thead>\n",
       "  <tbody>\n",
       "    <tr>\n",
       "      <th>0</th>\n",
       "      <td>'你知道多伦多附近有什么吗?哈哈有破布耶.真的书上写的你听哦.你家那块破布是世界上最大的破布...</td>\n",
       "      <td>sadness</td>\n",
       "    </tr>\n",
       "    <tr>\n",
       "      <th>1</th>\n",
       "      <td>平安夜,圣诞节,都过了,我很难过,和妈妈吵了两天,以死相逼才终止战争,现在还处于冷战中。</td>\n",
       "      <td>sadness</td>\n",
       "    </tr>\n",
       "    <tr>\n",
       "      <th>2</th>\n",
       "      <td>我只是自私了一点,做自己想做的事情!</td>\n",
       "      <td>sadness</td>\n",
       "    </tr>\n",
       "    <tr>\n",
       "      <th>3</th>\n",
       "      <td>让感动的不仅仅是雨过天晴,还有泪水流下来的迷人眼神。</td>\n",
       "      <td>happiness</td>\n",
       "    </tr>\n",
       "    <tr>\n",
       "      <th>4</th>\n",
       "      <td>好日子</td>\n",
       "      <td>happiness</td>\n",
       "    </tr>\n",
       "    <tr>\n",
       "      <th>...</th>\n",
       "      <td>...</td>\n",
       "      <td>...</td>\n",
       "    </tr>\n",
       "    <tr>\n",
       "      <th>35689</th>\n",
       "      <td>跟两位好友吃了一顿手包饺子九菜味煎的食得好饱馋嘴【能吃到饱的感觉真幸福满足</td>\n",
       "      <td>happiness</td>\n",
       "    </tr>\n",
       "    <tr>\n",
       "      <th>35690</th>\n",
       "      <td>你只看到我的旧坑,却没看到我又开了新坑;你有你的规则,我有我的潜规则;你否定bg,我决定必基...</td>\n",
       "      <td>happiness</td>\n",
       "    </tr>\n",
       "    <tr>\n",
       "      <th>35691</th>\n",
       "      <td>欠你的,伤你的,还有机会补偿吗?</td>\n",
       "      <td>sadness</td>\n",
       "    </tr>\n",
       "    <tr>\n",
       "      <th>35692</th>\n",
       "      <td>昨天晚上失眠啊,失了一晚上啊,早上要睡着结果要上班了。今天上午还开一上午的会,来不起了啊。泪</td>\n",
       "      <td>sadness</td>\n",
       "    </tr>\n",
       "    <tr>\n",
       "      <th>35693</th>\n",
       "      <td>听说你最近很上进哦,哈!</td>\n",
       "      <td>happiness</td>\n",
       "    </tr>\n",
       "  </tbody>\n",
       "</table>\n",
       "<p>35694 rows × 2 columns</p>\n",
       "</div>"
      ],
      "text/plain": [
       "                                                  text_a      label\n",
       "0      '你知道多伦多附近有什么吗?哈哈有破布耶.真的书上写的你听哦.你家那块破布是世界上最大的破布...    sadness\n",
       "1           平安夜,圣诞节,都过了,我很难过,和妈妈吵了两天,以死相逼才终止战争,现在还处于冷战中。    sadness\n",
       "2                                     我只是自私了一点,做自己想做的事情!    sadness\n",
       "3                             让感动的不仅仅是雨过天晴,还有泪水流下来的迷人眼神。  happiness\n",
       "4                                                    好日子  happiness\n",
       "...                                                  ...        ...\n",
       "35689              跟两位好友吃了一顿手包饺子九菜味煎的食得好饱馋嘴【能吃到饱的感觉真幸福满足  happiness\n",
       "35690  你只看到我的旧坑,却没看到我又开了新坑;你有你的规则,我有我的潜规则;你否定bg,我决定必基...  happiness\n",
       "35691                                   欠你的,伤你的,还有机会补偿吗?    sadness\n",
       "35692     昨天晚上失眠啊,失了一晚上啊,早上要睡着结果要上班了。今天上午还开一上午的会,来不起了啊。泪    sadness\n",
       "35693                                       听说你最近很上进哦,哈!  happiness\n",
       "\n",
       "[35694 rows x 2 columns]"
      ]
     },
     "execution_count": 13,
     "metadata": {},
     "output_type": "execute_result"
    }
   ],
   "source": [
    "data"
   ]
  },
  {
   "cell_type": "markdown",
   "metadata": {},
   "source": [
    "# 3 转换情感类别标签\n",
    "由于类别名为英文，此处主要将英文类别名转为中文类别名，从而更好应用于中文情感分析系统中去！"
   ]
  },
  {
   "cell_type": "code",
   "execution_count": 14,
   "metadata": {},
   "outputs": [
    {
     "name": "stderr",
     "output_type": "stream",
     "text": [
      "C:\\Users\\ASUS\\AppData\\Local\\Temp\\ipykernel_11696\\3800690894.py:2: SettingWithCopyWarning: \n",
      "A value is trying to be set on a copy of a slice from a DataFrame\n",
      "\n",
      "See the caveats in the documentation: https://pandas.pydata.org/pandas-docs/stable/user_guide/indexing.html#returning-a-view-versus-a-copy\n",
      "  data.loc[data['label']=='sadness', 'label'] = '难过'\n",
      "C:\\Users\\ASUS\\AppData\\Local\\Temp\\ipykernel_11696\\3800690894.py:3: SettingWithCopyWarning: \n",
      "A value is trying to be set on a copy of a slice from a DataFrame\n",
      "\n",
      "See the caveats in the documentation: https://pandas.pydata.org/pandas-docs/stable/user_guide/indexing.html#returning-a-view-versus-a-copy\n",
      "  data.loc[data['label']=='happiness', 'label'] = '愉快'\n",
      "C:\\Users\\ASUS\\AppData\\Local\\Temp\\ipykernel_11696\\3800690894.py:4: SettingWithCopyWarning: \n",
      "A value is trying to be set on a copy of a slice from a DataFrame\n",
      "\n",
      "See the caveats in the documentation: https://pandas.pydata.org/pandas-docs/stable/user_guide/indexing.html#returning-a-view-versus-a-copy\n",
      "  data.loc[data['label']=='like', 'label'] = '喜欢'\n",
      "C:\\Users\\ASUS\\AppData\\Local\\Temp\\ipykernel_11696\\3800690894.py:5: SettingWithCopyWarning: \n",
      "A value is trying to be set on a copy of a slice from a DataFrame\n",
      "\n",
      "See the caveats in the documentation: https://pandas.pydata.org/pandas-docs/stable/user_guide/indexing.html#returning-a-view-versus-a-copy\n",
      "  data.loc[data['label']=='anger', 'label'] = '愤怒'\n",
      "C:\\Users\\ASUS\\AppData\\Local\\Temp\\ipykernel_11696\\3800690894.py:6: SettingWithCopyWarning: \n",
      "A value is trying to be set on a copy of a slice from a DataFrame\n",
      "\n",
      "See the caveats in the documentation: https://pandas.pydata.org/pandas-docs/stable/user_guide/indexing.html#returning-a-view-versus-a-copy\n",
      "  data.loc[data['label']=='fear', 'label'] = '害怕'\n",
      "C:\\Users\\ASUS\\AppData\\Local\\Temp\\ipykernel_11696\\3800690894.py:7: SettingWithCopyWarning: \n",
      "A value is trying to be set on a copy of a slice from a DataFrame\n",
      "\n",
      "See the caveats in the documentation: https://pandas.pydata.org/pandas-docs/stable/user_guide/indexing.html#returning-a-view-versus-a-copy\n",
      "  data.loc[data['label']=='surprise', 'label'] = '惊讶'\n",
      "C:\\Users\\ASUS\\AppData\\Local\\Temp\\ipykernel_11696\\3800690894.py:8: SettingWithCopyWarning: \n",
      "A value is trying to be set on a copy of a slice from a DataFrame\n",
      "\n",
      "See the caveats in the documentation: https://pandas.pydata.org/pandas-docs/stable/user_guide/indexing.html#returning-a-view-versus-a-copy\n",
      "  data.loc[data['label']=='disgust', 'label'] = '厌恶'\n"
     ]
    }
   ],
   "source": [
    "# 替换数据集中标签,{'sadness': '难过', 'happiness': '愉快', 'like': '喜欢', 'anger': '愤怒', 'fear': '害怕', 'surprise': '惊讶', 'disgust': '厌恶'}\n",
    "data.loc[data['label']=='sadness', 'label'] = '难过'\n",
    "data.loc[data['label']=='happiness', 'label'] = '愉快'\n",
    "data.loc[data['label']=='like', 'label'] = '喜欢'\n",
    "data.loc[data['label']=='anger', 'label'] = '愤怒'\n",
    "data.loc[data['label']=='fear', 'label'] = '害怕'\n",
    "data.loc[data['label']=='surprise', 'label'] = '惊讶'\n",
    "data.loc[data['label']=='disgust', 'label'] = '厌恶'"
   ]
  },
  {
   "cell_type": "markdown",
   "metadata": {},
   "source": [
    "# 4 手动划分训练、验证和测试集"
   ]
  },
  {
   "cell_type": "markdown",
   "metadata": {},
   "source": [
    "划分训练、验证和测试集原因：\n",
    "\n",
    "a)训练集直接参与了模型调参的过程，显然不能用来反映模型真实的能力（防止课本死记硬背的学生拥有最好的成绩，即防止过拟合)。\n",
    "\n",
    "b)验证集参与了人工调参(超参数)的过程，也不能用来最终评判一个模型（刷题库的学生不能算是学习好的学生）。\n",
    "\n",
    "c) 所以要通过最终的考试(测试集)来考察一个学(模)生(型)真正的能力（期末考试）。"
   ]
  },
  {
   "attachments": {
    "image.png": {
     "image/png": "[encoded data removed]"
    }
   },
   "cell_type": "markdown",
   "metadata": {},
   "source": [
    "![image.png](attachment:image.png)"
   ]
  },
  {
   "cell_type": "code",
   "execution_count": null,
   "metadata": {},
   "outputs": [
    {
     "name": "stdout",
     "output_type": "stream",
     "text": [
      "训练集长度： 22844 验证集长度： 5711 测试集长度 7139\n"
     ]
    }
   ],
   "source": [
    "# # 划分方式1：根据比例直接划分训练、验证和测试集\n",
    "from sklearn.model_selection import train_test_split\n",
    "train_data, test_data = train_test_split(data, test_size=0.2)\n",
    "train_data,valid_data=train_test_split(train_data, test_size=0.2)\n",
    "\n",
    "# 对数据进行随机打乱\n",
    "from sklearn.utils import shuffle\n",
    "train_data = shuffle(train_data)\n",
    "valid_data = shuffle(valid_data)\n",
    "test_data = shuffle(test_data)\n",
    "\n",
    "# 保存划分好的数据集文件\n",
    "train_data.to_csv('./train.csv', index=False, sep=\"\\t\") # 训练集\n",
    "valid_data.to_csv('./valid.csv', index=False, sep=\"\\t\")  # 验证集\n",
    "test_data.to_csv('./test.csv', index=False, sep=\"\\t\")   # 测试集\n",
    "\n",
    "print('训练集长度：', len(train_data), '验证集长度：', len(valid_data), '测试集长度', len(test_data))"
   ]
  },
  {
   "cell_type": "code",
   "execution_count": null,
   "metadata": {},
   "outputs": [
    {
     "ename": "ModuleNotFoundError",
     "evalue": "No module named 'sklearn'",
     "output_type": "error",
     "traceback": [
      "\u001b[1;31m---------------------------------------------------------------------------\u001b[0m",
      "\u001b[1;31mModuleNotFoundError\u001b[0m                       Traceback (most recent call last)",
      "Cell \u001b[1;32mIn[15], line 3\u001b[0m\n\u001b[0;32m      1\u001b[0m \u001b[38;5;66;03m# 划分方式2：根据具体类别按8：1：1去划分训练、验证和测试集,这样可以使得数据尽量同分布\u001b[39;00m\n\u001b[1;32m----> 3\u001b[0m \u001b[38;5;28;01mfrom\u001b[39;00m \u001b[38;5;21;01msklearn\u001b[39;00m\u001b[38;5;21;01m.\u001b[39;00m\u001b[38;5;21;01mutils\u001b[39;00m \u001b[38;5;28;01mimport\u001b[39;00m shuffle\n\u001b[0;32m      4\u001b[0m train \u001b[38;5;241m=\u001b[39m pd\u001b[38;5;241m.\u001b[39mDataFrame()  \u001b[38;5;66;03m# 训练集\u001b[39;00m\n\u001b[0;32m      5\u001b[0m valid \u001b[38;5;241m=\u001b[39m pd\u001b[38;5;241m.\u001b[39mDataFrame()  \u001b[38;5;66;03m# 验证集\u001b[39;00m\n",
      "\u001b[1;31mModuleNotFoundError\u001b[0m: No module named 'sklearn'"
     ]
    }
   ],
   "source": [
    "# # 划分方式2：根据具体类别按8：1：1去划分训练、验证和测试集,这样可以使得数据尽量同分布\n",
    "\n",
    "# from sklearn.utils import shuffle\n",
    "# train = pd.DataFrame()  # 训练集\n",
    "# valid = pd.DataFrame()  # 验证集\n",
    "# test = pd.DataFrame()  # 测试集\n",
    "\n",
    "# tags = data['label'].unique().tolist()  # 按照该标签进行等比例抽取\n",
    "\n",
    "# # 根据数据集的类别按8:1:1的比例划分训练、验证和测试集并随机打乱后保存\n",
    "# for tag in tags:\n",
    "#     # 随机选取0.2的数据作为训练和验证集\n",
    "#     target = data[(data['label'] == tag)]\n",
    "#     sample = target.sample(int(0.2 * len(target)))\n",
    "#     sample_index = sample.index\n",
    "#     # 将剩余0.8的数据作为训练集\n",
    "#     all_index = target.index\n",
    "#     residue_index = all_index.difference(sample_index)  # 去除sample之后剩余的数据\n",
    "#     residue = target.loc[residue_index]\n",
    "#     # 对划分出来的0.2的数据集按等比例进行测试集和验证集的划分\n",
    "#     test_sample = sample.sample(int(0.5 * len(sample)))\n",
    "#     test_sample_index = test_sample.index\n",
    "#     valid_sample_index = sample_index.difference(test_sample_index)\n",
    "#     valid_sample = sample.loc[valid_sample_index]\n",
    "#     # 拼接各个类别\n",
    "#     test = pd.concat([test, test_sample], ignore_index=True)\n",
    "#     valid = pd.concat([valid, valid_sample], ignore_index=True)\n",
    "#     train = pd.concat([train, residue], ignore_index=True)\n",
    "#     # 对数据进行随机打乱\n",
    "#     train = shuffle(train)\n",
    "#     valid = shuffle(valid)\n",
    "#     test = shuffle(test)\n",
    "\n",
    "# # 保存为tab分隔的文本\n",
    "# train.to_csv('train.csv', sep='\\t', index=False)  # 训练集\n",
    "# valid.to_csv('valid.csv', sep='\\t', index=False)  # 验证集\n",
    "# test.to_csv('test.csv', sep='\\t', index=False)    # 测试集\n",
    "\n",
    "# print('训练集长度：', len(train), '验证集长度：', len(valid), '测试集长度', len(test))"
   ]
  },
  {
   "cell_type": "markdown",
   "metadata": {},
   "source": [
    "# 5 基于PaddleHub构建微情感分析模型"
   ]
  },
  {
   "cell_type": "code",
   "execution_count": 19,
   "metadata": {},
   "outputs": [
    {
     "name": "stdout",
     "output_type": "stream",
     "text": [
      "^C\n"
     ]
    },
    {
     "name": "stdout",
     "output_type": "stream",
     "text": [
      "Looking in indexes: https://pypi.tuna.tsinghua.edu.cn/simple\n",
      "Collecting paddlehub\n",
      "  Downloading https://pypi.tuna.tsinghua.edu.cn/packages/4b/40/27c86a86d7697bd503caf84890f50503f86bab4330e848629d6f37625d3f/paddlehub-2.4.0-py3-none-any.whl (213 kB)\n",
      "Requirement already satisfied: colorama in d:\\anaconda\\envs\\motion_py311\\lib\\site-packages (from paddlehub) (0.4.6)\n",
      "Collecting colorlog (from paddlehub)\n",
      "  Downloading https://pypi.tuna.tsinghua.edu.cn/packages/e3/51/9b208e85196941db2f0654ad0357ca6388ab3ed67efdbfc799f35d1f83aa/colorlog-6.9.0-py3-none-any.whl (11 kB)\n",
      "Collecting easydict (from paddlehub)\n",
      "  Downloading https://pypi.tuna.tsinghua.edu.cn/packages/05/ec/fa6963f1198172c2b75c9ab6ecefb3045991f92f75f5eb41b6621b198123/easydict-1.13-py3-none-any.whl (6.8 kB)\n",
      "Collecting filelock (from paddlehub)\n",
      "  Downloading https://pypi.tuna.tsinghua.edu.cn/packages/4d/36/2a115987e2d8c300a974597416d9de88f2444426de9571f4b59b2cca3acc/filelock-3.18.0-py3-none-any.whl (16 kB)\n",
      "Collecting flask>=1.1.0 (from paddlehub)\n",
      "  Downloading https://pypi.tuna.tsinghua.edu.cn/packages/af/47/93213ee66ef8fae3b93b3e29206f6b251e65c97bd91d8e1c5596ef15af0a/flask-3.1.0-py3-none-any.whl (102 kB)\n",
      "Requirement already satisfied: numpy in d:\\anaconda\\envs\\motion_py311\\lib\\site-packages (from paddlehub) (2.0.1)\n",
      "Requirement already satisfied: matplotlib in d:\\anaconda\\envs\\motion_py311\\lib\\site-packages (from paddlehub) (3.10.0)\n",
      "Collecting opencv-python (from paddlehub)\n",
      "  Downloading https://pypi.tuna.tsinghua.edu.cn/packages/a4/7d/f1c30a92854540bf789e9cd5dde7ef49bbe63f855b85a2e6b3db8135c591/opencv_python-4.11.0.86-cp37-abi3-win_amd64.whl (39.5 MB)\n",
      "     ---------------------------------------- 0.0/39.5 MB ? eta -:--:--\n",
      "      --------------------------------------- 0.8/39.5 MB 5.6 MB/s eta 0:00:07\n",
      "     -- ------------------------------------- 2.4/39.5 MB 7.1 MB/s eta 0:00:06\n",
      "     ---- ----------------------------------- 4.7/39.5 MB 8.9 MB/s eta 0:00:04\n",
      "     ---------- ---------------------------- 11.0/39.5 MB 15.6 MB/s eta 0:00:02\n",
      "     ------------------ -------------------- 18.6/39.5 MB 19.9 MB/s eta 0:00:02\n",
      "     ------------------------ -------------- 24.6/39.5 MB 21.4 MB/s eta 0:00:01\n",
      "     ------------------------------ -------- 30.7/39.5 MB 22.6 MB/s eta 0:00:01\n",
      "     ----------------------------------- --- 35.9/39.5 MB 22.8 MB/s eta 0:00:01\n",
      "     --------------------------------------- 39.5/39.5 MB 22.2 MB/s eta 0:00:00\n",
      "Requirement already satisfied: packaging in d:\\anaconda\\envs\\motion_py311\\lib\\site-packages (from paddlehub) (24.2)\n",
      "Collecting paddle2onnx>=0.5.1 (from paddlehub)\n",
      "  Downloading https://pypi.tuna.tsinghua.edu.cn/packages/bb/b7/5c65ee9161fd0f818dd832e3d9860c0be3585a8bcb2bc006f894afe29cc7/paddle2onnx-1.3.1-cp311-cp311-win_amd64.whl (1.8 MB)\n",
      "     ---------------------------------------- 0.0/1.8 MB ? eta -:--:--\n",
      "     ---------------------------------------- 1.8/1.8 MB 19.9 MB/s eta 0:00:00\n",
      "Collecting paddlenlp>=2.0.0 (from paddlehub)\n",
      "  Downloading https://pypi.tuna.tsinghua.edu.cn/packages/44/62/98dd0ca2f6600ca1dfc9c59ba1b40628df5f7948abc85ba16c3367c49cf4/paddlenlp-2.8.1-py3-none-any.whl (2.9 MB)\n",
      "     ---------------------------------------- 0.0/2.9 MB ? eta -:--:--\n",
      "     ---------------------------------------- 2.9/2.9 MB 19.0 MB/s eta 0:00:00\n",
      "Requirement already satisfied: Pillow in d:\\anaconda\\envs\\motion_py311\\lib\\site-packages (from paddlehub) (11.1.0)\n",
      "Requirement already satisfied: pyyaml in d:\\anaconda\\envs\\motion_py311\\lib\\site-packages (from paddlehub) (6.0.2)\n",
      "Requirement already satisfied: pyzmq in d:\\anaconda\\envs\\motion_py311\\lib\\site-packages (from paddlehub) (26.2.0)\n",
      "Collecting rarfile (from paddlehub)\n",
      "  Downloading https://pypi.tuna.tsinghua.edu.cn/packages/62/fc/ab37559419ca36dd8dd317c3a98395ed4dcee2beeb28bf6059b972906727/rarfile-4.2-py3-none-any.whl (29 kB)\n",
      "Requirement already satisfied: tqdm in d:\\anaconda\\envs\\motion_py311\\lib\\site-packages (from paddlehub) (4.67.1)\n",
      "Collecting visualdl>=2.0.0 (from paddlehub)\n",
      "  Downloading https://pypi.tuna.tsinghua.edu.cn/packages/ea/b5/37726c750a4f4598660998327c3566b2d2ed5a1a5f44e9f0dde875602447/visualdl-2.5.3-py3-none-any.whl (6.3 MB)\n",
      "     ---------------------------------------- 0.0/6.3 MB ? eta -:--:--\n",
      "     --------------------------------- ------ 5.2/6.3 MB 26.6 MB/s eta 0:00:01\n",
      "     ---------------------------------------- 6.3/6.3 MB 25.9 MB/s eta 0:00:00\n",
      "Collecting gradio (from paddlehub)\n",
      "  Downloading https://pypi.tuna.tsinghua.edu.cn/packages/d1/e6/d09f12c2d47285be4adc846e87538506f8550a08c9294389182e0fcf8447/gradio-5.22.0-py3-none-any.whl (46.2 MB)\n",
      "     ---------------------------------------- 0.0/46.2 MB ? eta -:--:--\n",
      "     --- ------------------------------------ 3.9/46.2 MB 19.5 MB/s eta 0:00:03\n",
      "     -------- ------------------------------- 9.4/46.2 MB 22.6 MB/s eta 0:00:02\n",
      "     ----------- --------------------------- 13.6/46.2 MB 21.9 MB/s eta 0:00:02\n",
      "     ---------------- ---------------------- 19.1/46.2 MB 22.4 MB/s eta 0:00:02\n",
      "     ------------------ -------------------- 21.5/46.2 MB 20.3 MB/s eta 0:00:02\n",
      "     ----------------------- --------------- 28.0/46.2 MB 21.9 MB/s eta 0:00:01\n",
      "     --------------------------- ----------- 32.8/46.2 MB 22.1 MB/s eta 0:00:01\n",
      "     ------------------------------- ------- 37.7/46.2 MB 22.2 MB/s eta 0:00:01\n",
      "     ---------------------------------- ---- 41.2/46.2 MB 21.5 MB/s eta 0:00:01\n",
      "     ------------------------------------- - 44.3/46.2 MB 20.7 MB/s eta 0:00:01\n",
      "     --------------------------------------- 46.2/46.2 MB 20.0 MB/s eta 0:00:00\n",
      "Collecting Werkzeug>=3.1 (from flask>=1.1.0->paddlehub)\n",
      "  Downloading https://pypi.tuna.tsinghua.edu.cn/packages/52/24/ab44c871b0f07f491e5d2ad12c9bd7358e527510618cb1b803a88e986db1/werkzeug-3.1.3-py3-none-any.whl (224 kB)\n",
      "Requirement already satisfied: Jinja2>=3.1.2 in d:\\anaconda\\envs\\motion_py311\\lib\\site-packages (from flask>=1.1.0->paddlehub) (3.1.6)\n",
      "Collecting itsdangerous>=2.2 (from flask>=1.1.0->paddlehub)\n",
      "  Downloading https://pypi.tuna.tsinghua.edu.cn/packages/04/96/92447566d16df59b2a776c0fb82dbc4d9e07cd95062562af01e408583fc4/itsdangerous-2.2.0-py3-none-any.whl (16 kB)\n",
      "Collecting click>=8.1.3 (from flask>=1.1.0->paddlehub)\n",
      "  Using cached https://pypi.tuna.tsinghua.edu.cn/packages/7e/d4/7ebdbd03970677812aac39c869717059dbb71a4cfc033ca6e5221787892c/click-8.1.8-py3-none-any.whl (98 kB)\n",
      "Collecting blinker>=1.9 (from flask>=1.1.0->paddlehub)\n",
      "  Downloading https://pypi.tuna.tsinghua.edu.cn/packages/10/cb/f2ad4230dc2eb1a74edf38f1a38b9b52277f75bef262d8908e60d957e13c/blinker-1.9.0-py3-none-any.whl (8.5 kB)\n",
      "Collecting jieba (from paddlenlp>=2.0.0->paddlehub)\n",
      "  Downloading https://pypi.tuna.tsinghua.edu.cn/packages/c6/cb/18eeb235f833b726522d7ebed54f2278ce28ba9438e3135ab0278d9792a2/jieba-0.42.1.tar.gz (19.2 MB)\n",
      "     ---------------------------------------- 0.0/19.2 MB ? eta -:--:--\n",
      "     ------ --------------------------------- 2.9/19.2 MB 24.0 MB/s eta 0:00:01\n",
      "     ------------- -------------------------- 6.6/19.2 MB 19.2 MB/s eta 0:00:01\n",
      "     --------------------- ----------------- 10.7/19.2 MB 19.7 MB/s eta 0:00:01\n",
      "     ----------------------------- --------- 14.7/19.2 MB 19.2 MB/s eta 0:00:01\n",
      "     --------------------------------------- 19.2/19.2 MB 20.6 MB/s eta 0:00:00\n",
      "  Preparing metadata (setup.py): started\n",
      "  Preparing metadata (setup.py): finished with status 'done'\n",
      "Collecting seqeval (from paddlenlp>=2.0.0->paddlehub)\n",
      "  Downloading https://pypi.tuna.tsinghua.edu.cn/packages/9d/2d/233c79d5b4e5ab1dbf111242299153f3caddddbb691219f363ad55ce783d/seqeval-1.2.2.tar.gz (43 kB)\n",
      "  Preparing metadata (setup.py): started\n",
      "  Preparing metadata (setup.py): finished with status 'done'\n",
      "Collecting dill<0.3.5 (from paddlenlp>=2.0.0->paddlehub)\n",
      "  Downloading https://pypi.tuna.tsinghua.edu.cn/packages/b6/c3/973676ceb86b60835bb3978c6db67a5dc06be6cfdbd14ef0f5a13e3fc9fd/dill-0.3.4-py2.py3-none-any.whl (86 kB)\n",
      "Collecting multiprocess<=0.70.12.2 (from paddlenlp>=2.0.0->paddlehub)\n",
      "  Downloading https://pypi.tuna.tsinghua.edu.cn/packages/e3/12/c1c7b5574a574a5bc898c8656b0ab8514d0609356b3ca18180e2ae94c2f7/multiprocess-0.70.12.2-py39-none-any.whl (128 kB)\n",
      "Collecting datasets>=2.0.0 (from paddlenlp>=2.0.0->paddlehub)\n",
      "  Downloading https://pypi.tuna.tsinghua.edu.cn/packages/16/44/5de560a2625d31801895fb2663693df210c6465960d61a99192caa9afd63/datasets-3.4.1-py3-none-any.whl (487 kB)\n",
      "Collecting paddlefsl (from paddlenlp>=2.0.0->paddlehub)\n",
      "  Downloading https://pypi.tuna.tsinghua.edu.cn/packages/fb/4a/25d1959a8f1fe5ee400f32fc9fc8b56d4fd6fc25315e23c0171f6e705e2a/paddlefsl-1.1.0-py3-none-any.whl (101 kB)\n",
      "Collecting sentencepiece (from paddlenlp>=2.0.0->paddlehub)\n",
      "  Downloading https://pypi.tuna.tsinghua.edu.cn/packages/a2/f6/587c62fd21fc988555b85351f50bbde43a51524caafd63bc69240ded14fd/sentencepiece-0.2.0-cp311-cp311-win_amd64.whl (991 kB)\n",
      "     ---------------------------------------- 0.0/991.5 kB ? eta -:--:--\n",
      "     ------------------------------------- 991.5/991.5 kB 15.9 MB/s eta 0:00:00\n",
      "Collecting huggingface-hub>=0.19.2 (from paddlenlp>=2.0.0->paddlehub)\n",
      "  Downloading https://pypi.tuna.tsinghua.edu.cn/packages/40/0c/37d380846a2e5c9a3c6a73d26ffbcfdcad5fc3eacf42fdf7cff56f2af634/huggingface_hub-0.29.3-py3-none-any.whl (468 kB)\n",
      "Collecting onnx>=1.10.0 (from paddlenlp>=2.0.0->paddlehub)\n",
      "  Downloading https://pypi.tuna.tsinghua.edu.cn/packages/51/a5/19b0dfcb567b62e7adf1a21b08b23224f0c2d13842aee4d0abc6f07f9cf5/onnx-1.17.0-cp311-cp311-win_amd64.whl (14.5 MB)\n",
      "     ---------------------------------------- 0.0/14.5 MB ? eta -:--:--\n",
      "     -------------- ------------------------- 5.2/14.5 MB 26.6 MB/s eta 0:00:01\n",
      "     ------------------------------- ------- 11.8/14.5 MB 28.4 MB/s eta 0:00:01\n",
      "     --------------------------------------- 14.5/14.5 MB 26.1 MB/s eta 0:00:00\n",
      "Collecting Flask-Babel (from paddlenlp>=2.0.0->paddlehub)\n",
      "  Downloading https://pypi.tuna.tsinghua.edu.cn/packages/14/c2/e0ab5abe37882e118482884f2ec660cd06da644ddfbceccf5f88f546b574/flask_babel-4.0.0-py3-none-any.whl (9.6 kB)\n",
      "Collecting fastapi (from paddlenlp>=2.0.0->paddlehub)\n",
      "  Downloading https://pypi.tuna.tsinghua.edu.cn/packages/50/b3/b51f09c2ba432a576fe63758bddc81f78f0c6309d9e5c10d194313bf021e/fastapi-0.115.12-py3-none-any.whl (95 kB)\n",
      "Collecting uvicorn (from paddlenlp>=2.0.0->paddlehub)\n",
      "  Downloading https://pypi.tuna.tsinghua.edu.cn/packages/61/14/33a3a1352cfa71812a3a21e8c9bfb83f60b0011f5e36f2b1399d51928209/uvicorn-0.34.0-py3-none-any.whl (62 kB)\n",
      "Collecting typer (from paddlenlp>=2.0.0->paddlehub)\n",
      "  Downloading https://pypi.tuna.tsinghua.edu.cn/packages/7f/fc/5b29fea8cee020515ca82cc68e3b8e1e34bb19a3535ad854cac9257b414c/typer-0.15.2-py3-none-any.whl (45 kB)\n",
      "Collecting rich (from paddlenlp>=2.0.0->paddlehub)\n",
      "  Downloading https://pypi.tuna.tsinghua.edu.cn/packages/19/71/39c7c0d87f8d4e6c020a393182060eaefeeae6c01dab6a84ec346f2567df/rich-13.9.4-py3-none-any.whl (242 kB)\n",
      "Collecting safetensors (from paddlenlp>=2.0.0->paddlehub)\n",
      "  Downloading https://pypi.tuna.tsinghua.edu.cn/packages/69/e2/b011c38e5394c4c18fb5500778a55ec43ad6106126e74723ffaee246f56e/safetensors-0.5.3-cp38-abi3-win_amd64.whl (308 kB)\n",
      "INFO: pip is looking at multiple versions of paddlenlp to determine which version is compatible with other requirements. This could take a while.\n",
      "Collecting paddlenlp>=2.0.0 (from paddlehub)\n",
      "  Downloading https://pypi.tuna.tsinghua.edu.cn/packages/2a/43/706e5bccdfae4463befa5995f1020d72c82d0b72df9be16df2beecc43664/paddlenlp-2.8.0-py3-none-any.whl (2.9 MB)\n",
      "     ---------------------------------------- 0.0/2.9 MB ? eta -:--:--\n",
      "     ---------------------------------------- 2.9/2.9 MB 28.3 MB/s eta 0:00:00\n",
      "  Downloading https://pypi.tuna.tsinghua.edu.cn/packages/67/56/27acc14fb6e700831c0b417b4a45afc231045daa1829b4a49db56966d201/paddlenlp-2.7.2-py3-none-any.whl (2.8 MB)\n",
      "     ---------------------------------------- 0.0/2.8 MB ? eta -:--:--\n",
      "     ---------------------------------------- 2.8/2.8 MB 40.1 MB/s eta 0:00:00\n",
      "  Downloading https://pypi.tuna.tsinghua.edu.cn/packages/70/87/bcdaafe4de9ffb3ae70d895bdbf401e8f5783702799bd3de5f97faabbdab/paddlenlp-2.7.1-py3-none-any.whl (2.8 MB)\n",
      "     ---------------------------------------- 0.0/2.8 MB ? eta -:--:--\n",
      "     ---------------------------------------- 2.8/2.8 MB 53.7 MB/s eta 0:00:00\n",
      "  Downloading https://pypi.tuna.tsinghua.edu.cn/packages/8c/f5/4486fb210bbd729c56210ea3013e7446a1286e8a68521fb80da8ed46032e/paddlenlp-2.7.0-py3-none-any.whl (3.0 MB)\n",
      "     ---------------------------------------- 0.0/3.0 MB ? eta -:--:--\n",
      "     ---------------------------------------- 3.0/3.0 MB 34.5 MB/s eta 0:00:00\n",
      "  Downloading https://pypi.tuna.tsinghua.edu.cn/packages/59/66/6e384f42fbc97e6e1ba3d356cc9541a26a6968a029c22e476d8294ab8e6c/paddlenlp-2.6.1-py3-none-any.whl (2.7 MB)\n",
      "     ---------------------------------------- 0.0/2.7 MB ? eta -:--:--\n",
      "     ---------------------------------------- 2.7/2.7 MB 38.4 MB/s eta 0:00:00\n",
      "Collecting protobuf==3.20.2 (from paddlenlp>=2.0.0->paddlehub)\n",
      "  Downloading https://pypi.tuna.tsinghua.edu.cn/packages/8b/e6/2a47ce2eba1aaf287380a44270da897ada03d118a55c19595ec7b4f0831f/protobuf-3.20.2-py2.py3-none-any.whl (162 kB)\n",
      "Collecting bce-python-sdk (from visualdl>=2.0.0->paddlehub)\n",
      "  Downloading https://pypi.tuna.tsinghua.edu.cn/packages/0f/60/b3247bae81d5ecde1a88430ffe8c57ea3f7212c6a6670b540f7d34d2c625/bce_python_sdk-0.9.29-py3-none-any.whl (343 kB)\n",
      "Collecting requests (from visualdl>=2.0.0->paddlehub)\n",
      "  Using cached https://pypi.tuna.tsinghua.edu.cn/packages/f9/9b/335f9764261e915ed497fcdeb11df5dfd6f7bf257d4a6a2a686d80da4d54/requests-2.32.3-py3-none-any.whl (64 kB)\n",
      "Requirement already satisfied: six>=1.14.0 in d:\\anaconda\\envs\\motion_py311\\lib\\site-packages (from visualdl>=2.0.0->paddlehub) (1.16.0)\n",
      "Requirement already satisfied: pandas in d:\\anaconda\\envs\\motion_py311\\lib\\site-packages (from visualdl>=2.0.0->paddlehub) (2.2.3)\n",
      "Requirement already satisfied: psutil in d:\\anaconda\\envs\\motion_py311\\lib\\site-packages (from visualdl>=2.0.0->paddlehub) (5.9.0)\n",
      "Collecting aiofiles<24.0,>=22.0 (from gradio->paddlehub)\n",
      "  Using cached https://pypi.tuna.tsinghua.edu.cn/packages/c5/19/5af6804c4cc0fed83f47bff6e413a98a36618e7d40185cd36e69737f3b0e/aiofiles-23.2.1-py3-none-any.whl (15 kB)\n",
      "Requirement already satisfied: anyio<5.0,>=3.0 in d:\\anaconda\\envs\\motion_py311\\lib\\site-packages (from gradio->paddlehub) (4.6.2)\n",
      "Collecting ffmpy (from gradio->paddlehub)\n",
      "  Downloading https://pypi.tuna.tsinghua.edu.cn/packages/53/5d/65f40bd333463b3230b3a72d93873caaf49b0cbb5228598fafb75fcc5357/ffmpy-0.5.0-py3-none-any.whl (6.0 kB)\n",
      "Collecting gradio-client==1.8.0 (from gradio->paddlehub)\n",
      "  Downloading https://pypi.tuna.tsinghua.edu.cn/packages/15/c8/0df7f92c8f1bdf5c244c29de8cd7e33a5931768ddba245526a770bfa18a2/gradio_client-1.8.0-py3-none-any.whl (322 kB)\n",
      "Collecting groovy~=0.1 (from gradio->paddlehub)\n",
      "  Downloading https://pypi.tuna.tsinghua.edu.cn/packages/28/27/3d6dcadc8a3214d8522c1e7f6a19554e33659be44546d44a2f7572ac7d2a/groovy-0.1.2-py3-none-any.whl (14 kB)\n",
      "Requirement already satisfied: httpx>=0.24.1 in d:\\anaconda\\envs\\motion_py311\\lib\\site-packages (from gradio->paddlehub) (0.27.0)\n",
      "Requirement already satisfied: markupsafe<4.0,>=2.0 in d:\\anaconda\\envs\\motion_py311\\lib\\site-packages (from gradio->paddlehub) (3.0.2)\n",
      "Collecting orjson~=3.0 (from gradio->paddlehub)\n",
      "  Downloading https://pypi.tuna.tsinghua.edu.cn/packages/00/f8/bb60a4644287a544ec81df1699d5b965776bc9848d9029d9f9b3402ac8bb/orjson-3.10.15-cp311-cp311-win_amd64.whl (133 kB)\n",
      "Collecting pydantic>=2.0 (from gradio->paddlehub)\n",
      "  Downloading https://pypi.tuna.tsinghua.edu.cn/packages/f4/3c/8cc1cc84deffa6e25d2d0c688ebb80635dfdbf1dbea3e30c541c8cf4d860/pydantic-2.10.6-py3-none-any.whl (431 kB)\n",
      "Collecting pydub (from gradio->paddlehub)\n",
      "  Downloading https://pypi.tuna.tsinghua.edu.cn/packages/a6/53/d78dc063216e62fc55f6b2eebb447f6a4b0a59f55c8406376f76bf959b08/pydub-0.25.1-py2.py3-none-any.whl (32 kB)\n",
      "Collecting python-multipart>=0.0.18 (from gradio->paddlehub)\n",
      "  Downloading https://pypi.tuna.tsinghua.edu.cn/packages/45/58/38b5afbc1a800eeea951b9285d3912613f2603bdf897a4ab0f4bd7f405fc/python_multipart-0.0.20-py3-none-any.whl (24 kB)\n",
      "Collecting ruff>=0.9.3 (from gradio->paddlehub)\n",
      "  Downloading https://pypi.tuna.tsinghua.edu.cn/packages/86/54/3c12d3af58012a5e2cd7ebdbe9983f4834af3f8cbea0e8a8c74fa1e23b2b/ruff-0.11.2-py3-none-win_amd64.whl (11.4 MB)\n",
      "     ---------------------------------------- 0.0/11.4 MB ? eta -:--:--\n",
      "     ------------------------- -------------- 7.3/11.4 MB 37.6 MB/s eta 0:00:01\n",
      "     --------------------------------------- 11.4/11.4 MB 35.5 MB/s eta 0:00:00\n",
      "Collecting safehttpx<0.2.0,>=0.1.6 (from gradio->paddlehub)\n",
      "  Downloading https://pypi.tuna.tsinghua.edu.cn/packages/4d/c0/1108ad9f01567f66b3154063605b350b69c3c9366732e09e45f9fd0d1deb/safehttpx-0.1.6-py3-none-any.whl (8.7 kB)\n",
      "Collecting semantic-version~=2.0 (from gradio->paddlehub)\n",
      "  Using cached https://pypi.tuna.tsinghua.edu.cn/packages/6a/23/8146aad7d88f4fcb3a6218f41a60f6c2d4e3a72de72da1825dc7c8f7877c/semantic_version-2.10.0-py2.py3-none-any.whl (15 kB)\n",
      "Collecting starlette<1.0,>=0.40.0 (from gradio->paddlehub)\n",
      "  Downloading https://pypi.tuna.tsinghua.edu.cn/packages/a0/4b/528ccf7a982216885a1ff4908e886b8fb5f19862d1962f56a3fce2435a70/starlette-0.46.1-py3-none-any.whl (71 kB)\n",
      "Collecting tomlkit<0.14.0,>=0.12.0 (from gradio->paddlehub)\n",
      "  Downloading https://pypi.tuna.tsinghua.edu.cn/packages/f9/b6/a447b5e4ec71e13871be01ba81f5dfc9d0af7e473da256ff46bc0e24026f/tomlkit-0.13.2-py3-none-any.whl (37 kB)\n",
      "Requirement already satisfied: typing-extensions~=4.0 in d:\\anaconda\\envs\\motion_py311\\lib\\site-packages (from gradio->paddlehub) (4.12.2)\n",
      "Collecting fsspec (from gradio-client==1.8.0->gradio->paddlehub)\n",
      "  Downloading https://pypi.tuna.tsinghua.edu.cn/packages/56/53/eb690efa8513166adef3e0669afd31e95ffde69fb3c52ec2ac7223ed6018/fsspec-2025.3.0-py3-none-any.whl (193 kB)\n",
      "Collecting websockets<16.0,>=10.0 (from gradio-client==1.8.0->gradio->paddlehub)\n",
      "  Downloading https://pypi.tuna.tsinghua.edu.cn/packages/98/93/e36c73f78400a65f5e236cd376713c34182e6663f6889cd45a4a04d8f203/websockets-15.0.1-cp311-cp311-win_amd64.whl (176 kB)\n",
      "Requirement already satisfied: contourpy>=1.0.1 in d:\\anaconda\\envs\\motion_py311\\lib\\site-packages (from matplotlib->paddlehub) (1.3.1)\n",
      "Requirement already satisfied: cycler>=0.10 in d:\\anaconda\\envs\\motion_py311\\lib\\site-packages (from matplotlib->paddlehub) (0.11.0)\n",
      "Requirement already satisfied: fonttools>=4.22.0 in d:\\anaconda\\envs\\motion_py311\\lib\\site-packages (from matplotlib->paddlehub) (4.55.3)\n",
      "Requirement already satisfied: kiwisolver>=1.3.1 in d:\\anaconda\\envs\\motion_py311\\lib\\site-packages (from matplotlib->paddlehub) (1.4.8)\n",
      "Requirement already satisfied: pyparsing>=2.3.1 in d:\\anaconda\\envs\\motion_py311\\lib\\site-packages (from matplotlib->paddlehub) (3.2.0)\n",
      "Requirement already satisfied: python-dateutil>=2.7 in d:\\anaconda\\envs\\motion_py311\\lib\\site-packages (from matplotlib->paddlehub) (2.9.0.post0)\n",
      "Requirement already satisfied: idna>=2.8 in d:\\anaconda\\envs\\motion_py311\\lib\\site-packages (from anyio<5.0,>=3.0->gradio->paddlehub) (3.7)\n",
      "Requirement already satisfied: sniffio>=1.1 in d:\\anaconda\\envs\\motion_py311\\lib\\site-packages (from anyio<5.0,>=3.0->gradio->paddlehub) (1.3.0)\n",
      "Collecting pyarrow>=15.0.0 (from datasets>=2.0.0->paddlenlp>=2.0.0->paddlehub)\n",
      "  Downloading https://pypi.tuna.tsinghua.edu.cn/packages/ff/77/e62aebd343238863f2c9f080ad2ef6ace25c919c6ab383436b5b81cbeef7/pyarrow-19.0.1-cp311-cp311-win_amd64.whl (25.3 MB)\n",
      "     ---------------------------------------- 0.0/25.3 MB ? eta -:--:--\n",
      "     ---------- ----------------------------- 6.8/25.3 MB 32.3 MB/s eta 0:00:01\n",
      "     -------------------- ------------------ 13.4/25.3 MB 31.1 MB/s eta 0:00:01\n",
      "     ----------------------------- --------- 18.9/25.3 MB 29.0 MB/s eta 0:00:01\n",
      "     --------------------------------------  24.6/25.3 MB 29.4 MB/s eta 0:00:01\n",
      "     --------------------------------------- 25.3/25.3 MB 25.4 MB/s eta 0:00:00\n",
      "Collecting xxhash (from datasets>=2.0.0->paddlenlp>=2.0.0->paddlehub)\n",
      "  Downloading https://pypi.tuna.tsinghua.edu.cn/packages/52/1c/fa3b61c0cf03e1da4767213672efe186b1dfa4fc901a4a694fb184a513d1/xxhash-3.5.0-cp311-cp311-win_amd64.whl (30 kB)\n",
      "Collecting fsspec (from gradio-client==1.8.0->gradio->paddlehub)\n",
      "  Downloading https://pypi.tuna.tsinghua.edu.cn/packages/de/86/5486b0188d08aa643e127774a99bac51ffa6cf343e3deb0583956dca5b22/fsspec-2024.12.0-py3-none-any.whl (183 kB)\n",
      "Collecting aiohttp (from datasets>=2.0.0->paddlenlp>=2.0.0->paddlehub)\n",
      "  Using cached https://pypi.tuna.tsinghua.edu.cn/packages/07/3c/aa468550b7fcd0c634d4aa8192f33ce32a179ecba08b908a0ed272194f87/aiohttp-3.11.14-cp311-cp311-win_amd64.whl (443 kB)\n",
      "Collecting Babel>=2.12 (from Flask-Babel->paddlenlp>=2.0.0->paddlehub)\n",
      "  Downloading https://pypi.tuna.tsinghua.edu.cn/packages/b7/b8/3fe70c75fe32afc4bb507f75563d39bc5642255d1d94f1f23604725780bf/babel-2.17.0-py3-none-any.whl (10.2 MB)\n",
      "     ---------------------------------------- 0.0/10.2 MB ? eta -:--:--\n",
      "     --------------------------- ------------ 7.1/10.2 MB 33.6 MB/s eta 0:00:01\n",
      "     --------------------------------------- 10.2/10.2 MB 31.7 MB/s eta 0:00:00\n",
      "Requirement already satisfied: pytz>=2022.7 in d:\\anaconda\\envs\\motion_py311\\lib\\site-packages (from Flask-Babel->paddlenlp>=2.0.0->paddlehub) (2024.1)\n",
      "Requirement already satisfied: certifi in d:\\anaconda\\envs\\motion_py311\\lib\\site-packages (from httpx>=0.24.1->gradio->paddlehub) (2025.1.31)\n",
      "Requirement already satisfied: httpcore==1.* in d:\\anaconda\\envs\\motion_py311\\lib\\site-packages (from httpx>=0.24.1->gradio->paddlehub) (1.0.2)\n",
      "Requirement already satisfied: h11<0.15,>=0.13 in d:\\anaconda\\envs\\motion_py311\\lib\\site-packages (from httpcore==1.*->httpx>=0.24.1->gradio->paddlehub) (0.14.0)\n",
      "Requirement already satisfied: tzdata>=2022.7 in d:\\anaconda\\envs\\motion_py311\\lib\\site-packages (from pandas->visualdl>=2.0.0->paddlehub) (2023.3)\n",
      "Collecting annotated-types>=0.6.0 (from pydantic>=2.0->gradio->paddlehub)\n",
      "  Using cached https://pypi.tuna.tsinghua.edu.cn/packages/78/b6/6307fbef88d9b5ee7421e68d78a9f162e0da4900bc5f5793f6d3d0e34fb8/annotated_types-0.7.0-py3-none-any.whl (13 kB)\n",
      "Collecting pydantic-core==2.27.2 (from pydantic>=2.0->gradio->paddlehub)\n",
      "  Downloading https://pypi.tuna.tsinghua.edu.cn/packages/e8/ef/013f07248041b74abd48a385e2110aa3a9bbfef0fbd97d4e6d07d2f5b89a/pydantic_core-2.27.2-cp311-cp311-win_amd64.whl (2.0 MB)\n",
      "     ---------------------------------------- 0.0/2.0 MB ? eta -:--:--\n",
      "     ---------------------------------------- 2.0/2.0 MB 27.7 MB/s eta 0:00:00\n",
      "Collecting charset-normalizer<4,>=2 (from requests->visualdl>=2.0.0->paddlehub)\n",
      "  Downloading https://pypi.tuna.tsinghua.edu.cn/packages/1e/ab/45b180e175de4402dcf7547e4fb617283bae54ce35c27930a6f35b6bef15/charset_normalizer-3.4.1-cp311-cp311-win_amd64.whl (102 kB)\n",
      "Collecting urllib3<3,>=1.21.1 (from requests->visualdl>=2.0.0->paddlehub)\n",
      "  Downloading https://pypi.tuna.tsinghua.edu.cn/packages/c8/19/4ec628951a74043532ca2cf5d97b7b14863931476d117c471e8e2b1eb39f/urllib3-2.3.0-py3-none-any.whl (128 kB)\n",
      "Collecting shellingham>=1.3.0 (from typer->paddlenlp>=2.0.0->paddlehub)\n",
      "  Using cached https://pypi.tuna.tsinghua.edu.cn/packages/e0/f9/0595336914c5619e5f28a1fb793285925a8cd4b432c9da0a987836c7f822/shellingham-1.5.4-py2.py3-none-any.whl (9.8 kB)\n",
      "Collecting markdown-it-py>=2.2.0 (from rich->paddlenlp>=2.0.0->paddlehub)\n",
      "  Using cached https://pypi.tuna.tsinghua.edu.cn/packages/42/d7/1ec15b46af6af88f19b8e5ffea08fa375d433c998b8a7639e76935c14f1f/markdown_it_py-3.0.0-py3-none-any.whl (87 kB)\n",
      "Requirement already satisfied: pygments<3.0.0,>=2.13.0 in d:\\anaconda\\envs\\motion_py311\\lib\\site-packages (from rich->paddlenlp>=2.0.0->paddlehub) (2.15.1)\n",
      "Collecting pycryptodome>=3.8.0 (from bce-python-sdk->visualdl>=2.0.0->paddlehub)\n",
      "  Downloading https://pypi.tuna.tsinghua.edu.cn/packages/55/f4/244c621afcf7867e23f63cfd7a9630f14cfe946c9be7e566af6c3915bcde/pycryptodome-3.22.0-cp37-abi3-win_amd64.whl (1.8 MB)\n",
      "     ---------------------------------------- 0.0/1.8 MB ? eta -:--:--\n",
      "     ---------------------------------------- 1.8/1.8 MB 102.2 MB/s eta 0:00:00\n",
      "Collecting future>=0.6.0 (from bce-python-sdk->visualdl>=2.0.0->paddlehub)\n",
      "  Using cached https://pypi.tuna.tsinghua.edu.cn/packages/da/71/ae30dadffc90b9006d77af76b393cb9dfbfc9629f339fc1574a1c52e6806/future-1.0.0-py3-none-any.whl (491 kB)\n",
      "Requirement already satisfied: scikit-learn>=0.21.3 in d:\\anaconda\\envs\\motion_py311\\lib\\site-packages (from seqeval->paddlenlp>=2.0.0->paddlehub) (1.6.1)\n",
      "Collecting aiohappyeyeballs>=2.3.0 (from aiohttp->datasets>=2.0.0->paddlenlp>=2.0.0->paddlehub)\n",
      "  Using cached https://pypi.tuna.tsinghua.edu.cn/packages/0f/15/5bf3b99495fb160b63f95972b81750f18f7f4e02ad051373b669d17d44f2/aiohappyeyeballs-2.6.1-py3-none-any.whl (15 kB)\n",
      "Collecting aiosignal>=1.1.2 (from aiohttp->datasets>=2.0.0->paddlenlp>=2.0.0->paddlehub)\n",
      "  Using cached https://pypi.tuna.tsinghua.edu.cn/packages/ec/6a/bc7e17a3e87a2985d3e8f4da4cd0f481060eb78fb08596c42be62c90a4d9/aiosignal-1.3.2-py2.py3-none-any.whl (7.6 kB)\n",
      "Requirement already satisfied: attrs>=17.3.0 in d:\\anaconda\\envs\\motion_py311\\lib\\site-packages (from aiohttp->datasets>=2.0.0->paddlenlp>=2.0.0->paddlehub) (24.3.0)\n",
      "Collecting frozenlist>=1.1.1 (from aiohttp->datasets>=2.0.0->paddlenlp>=2.0.0->paddlehub)\n",
      "  Using cached https://pypi.tuna.tsinghua.edu.cn/packages/ca/8c/2ddffeb8b60a4bce3b196c32fcc30d8830d4615e7b492ec2071da801b8ad/frozenlist-1.5.0-cp311-cp311-win_amd64.whl (51 kB)\n",
      "Collecting multidict<7.0,>=4.5 (from aiohttp->datasets>=2.0.0->paddlenlp>=2.0.0->paddlehub)\n",
      "  Using cached https://pypi.tuna.tsinghua.edu.cn/packages/d0/b5/c7cd5ba9581add40bc743980f82426b90d9f42db0b56502011f1b3c929df/multidict-6.2.0-cp311-cp311-win_amd64.whl (29 kB)\n",
      "Collecting propcache>=0.2.0 (from aiohttp->datasets>=2.0.0->paddlenlp>=2.0.0->paddlehub)\n",
      "  Using cached https://pypi.tuna.tsinghua.edu.cn/packages/d8/35/57abeb6146fe3c19081eeaf3d9d4cfea256f87f1e5101acf80d3332c1820/propcache-0.3.0-cp311-cp311-win_amd64.whl (44 kB)\n",
      "Collecting yarl<2.0,>=1.17.0 (from aiohttp->datasets>=2.0.0->paddlenlp>=2.0.0->paddlehub)\n",
      "  Using cached https://pypi.tuna.tsinghua.edu.cn/packages/ae/7b/8600250b3d89b625f1121d897062f629883c2f45339623b69b1747ec65fa/yarl-1.18.3-cp311-cp311-win_amd64.whl (91 kB)\n",
      "Collecting mdurl~=0.1 (from markdown-it-py>=2.2.0->rich->paddlenlp>=2.0.0->paddlehub)\n",
      "  Using cached https://pypi.tuna.tsinghua.edu.cn/packages/b3/38/89ba8ad64ae25be8de66a6d463314cf1eb366222074cfda9ee839c56a4b4/mdurl-0.1.2-py3-none-any.whl (10.0 kB)\n",
      "Requirement already satisfied: scipy>=1.6.0 in d:\\anaconda\\envs\\motion_py311\\lib\\site-packages (from scikit-learn>=0.21.3->seqeval->paddlenlp>=2.0.0->paddlehub) (1.15.1)\n",
      "Requirement already satisfied: joblib>=1.2.0 in d:\\anaconda\\envs\\motion_py311\\lib\\site-packages (from scikit-learn>=0.21.3->seqeval->paddlenlp>=2.0.0->paddlehub) (1.4.2)\n",
      "Requirement already satisfied: threadpoolctl>=3.1.0 in d:\\anaconda\\envs\\motion_py311\\lib\\site-packages (from scikit-learn>=0.21.3->seqeval->paddlenlp>=2.0.0->paddlehub) (3.5.0)\n",
      "Building wheels for collected packages: jieba, seqeval\n",
      "  Building wheel for jieba (setup.py): started\n",
      "  Building wheel for jieba (setup.py): finished with status 'done'\n",
      "  Created wheel for jieba: filename=jieba-0.42.1-py3-none-any.whl size=19314527 sha256=cac6495c3005cee085b3137b52af6aa0b1355e20a80e1789ea6678217dadb287\n",
      "  Stored in directory: c:\\users\\asus\\appdata\\local\\pip\\cache\\wheels\\37\\08\\79\\ea7c0d2ca823affa13f89586a5a9eff8dd6ad589640396e1b5\n",
      "  Building wheel for seqeval (setup.py): started\n",
      "  Building wheel for seqeval (setup.py): finished with status 'done'\n",
      "  Created wheel for seqeval: filename=seqeval-1.2.2-py3-none-any.whl size=16247 sha256=c6db365b81b056761d507b7647c628285cda5a876f3b8a9fb14dea1b6d2b7f09\n",
      "  Stored in directory: c:\\users\\asus\\appdata\\local\\pip\\cache\\wheels\\10\\9a\\69\\ca996d57f676b6c4f5b62721d71403bf76a91ef1db1e10846c\n",
      "Successfully built jieba seqeval\n",
      "Installing collected packages: sentencepiece, pydub, jieba, easydict, xxhash, Werkzeug, websockets, urllib3, tomlkit, shellingham, semantic-version, safetensors, ruff, rarfile, python-multipart, pydantic-core, pycryptodome, pyarrow, protobuf, propcache, paddle2onnx, orjson, opencv-python, multidict, mdurl, itsdangerous, groovy, future, fsspec, frozenlist, filelock, ffmpy, dill, colorlog, click, charset-normalizer, blinker, Babel, annotated-types, aiohappyeyeballs, aiofiles, yarl, uvicorn, starlette, requests, pydantic, onnx, multiprocess, markdown-it-py, flask, bce-python-sdk, aiosignal, seqeval, safehttpx, rich, paddlefsl, huggingface-hub, Flask-Babel, fastapi, aiohttp, visualdl, typer, gradio-client, gradio, datasets, paddlenlp, paddlehub\n",
      "  Attempting uninstall: protobuf\n",
      "    Found existing installation: protobuf 5.29.3\n",
      "    Uninstalling protobuf-5.29.3:\n",
      "      Successfully uninstalled protobuf-5.29.3\n",
      "Successfully installed Babel-2.17.0 Flask-Babel-4.0.0 Werkzeug-3.1.3 aiofiles-23.2.1 aiohappyeyeballs-2.6.1 aiohttp-3.11.14 aiosignal-1.3.2 annotated-types-0.7.0 bce-python-sdk-0.9.29 blinker-1.9.0 charset-normalizer-3.4.1 click-8.1.8 colorlog-6.9.0 datasets-3.4.1 dill-0.3.4 easydict-1.13 fastapi-0.115.12 ffmpy-0.5.0 filelock-3.18.0 flask-3.1.0 frozenlist-1.5.0 fsspec-2024.12.0 future-1.0.0 gradio-5.22.0 gradio-client-1.8.0 groovy-0.1.2 huggingface-hub-0.29.3 itsdangerous-2.2.0 jieba-0.42.1 markdown-it-py-3.0.0 mdurl-0.1.2 multidict-6.2.0 multiprocess-0.70.12.2 onnx-1.17.0 opencv-python-4.11.0.86 orjson-3.10.15 paddle2onnx-1.3.1 paddlefsl-1.1.0 paddlehub-2.4.0 paddlenlp-2.6.1 propcache-0.3.0 protobuf-3.20.2 pyarrow-19.0.1 pycryptodome-3.22.0 pydantic-2.10.6 pydantic-core-2.27.2 pydub-0.25.1 python-multipart-0.0.20 rarfile-4.2 requests-2.32.3 rich-13.9.4 ruff-0.11.2 safehttpx-0.1.6 safetensors-0.5.3 semantic-version-2.10.0 sentencepiece-0.2.0 seqeval-1.2.2 shellingham-1.5.4 starlette-0.46.1 tomlkit-0.13.2 typer-0.15.2 urllib3-2.3.0 uvicorn-0.34.0 visualdl-2.5.3 websockets-15.0.1 xxhash-3.5.0 yarl-1.18.3\n"
     ]
    },
    {
     "name": "stderr",
     "output_type": "stream",
     "text": [
      "ERROR: pip's dependency resolver does not currently take into account all the packages that are installed. This behaviour is the source of the following dependency conflicts.\n",
      "paddlepaddle-gpu 3.0.0rc1 requires nvidia-cublas-cu11==11.11.3.6, which is not installed.\n",
      "paddlepaddle-gpu 3.0.0rc1 requires nvidia-cuda-runtime-cu11==11.8.89, which is not installed.\n",
      "paddlepaddle-gpu 3.0.0rc1 requires nvidia-cudnn-cu11==8.9.4.19, which is not installed.\n",
      "paddlepaddle-gpu 3.0.0rc1 requires nvidia-cufft-cu11==10.9.0.58, which is not installed.\n",
      "paddlepaddle-gpu 3.0.0rc1 requires nvidia-curand-cu11==10.3.0.86, which is not installed.\n",
      "paddlepaddle-gpu 3.0.0rc1 requires nvidia-cusolver-cu11==11.4.1.48, which is not installed.\n",
      "paddlepaddle-gpu 3.0.0rc1 requires nvidia-cusparse-cu11==11.7.5.86, which is not installed.\n"
     ]
    }
   ],
   "source": [
    "# 下载最新版本的paddlehub\n",
    "!pip install -U paddlehub -i https://pypi.tuna.tsinghua.edu.cn/simple"
   ]
  },
  {
   "cell_type": "code",
   "execution_count": 20,
   "metadata": {},
   "outputs": [
    {
     "name": "stderr",
     "output_type": "stream",
     "text": [
      "d:\\anaconda\\envs\\motion_py311\\Lib\\site-packages\\paddle\\utils\\cpp_extension\\extension_utils.py:711: UserWarning: No ccache found. Please be aware that recompiling all source files may be required. You can download and install ccache from: https://github.com/ccache/ccache/blob/master/doc/INSTALL.md\n",
      "  warnings.warn(warning_message)\n",
      "d:\\anaconda\\envs\\motion_py311\\Lib\\site-packages\\tqdm\\auto.py:21: TqdmWarning: IProgress not found. Please update jupyter and ipywidgets. See https://ipywidgets.readthedocs.io/en/stable/user_install.html\n",
      "  from .autonotebook import tqdm as notebook_tqdm\n",
      "d:\\anaconda\\envs\\motion_py311\\Lib\\site-packages\\_distutils_hack\\__init__.py:30: UserWarning: Setuptools is replacing distutils. Support for replacing an already imported distutils is deprecated. In the future, this condition will fail. Register concerns at https://github.com/pypa/setuptools/issues/new?template=distutils-deprecation.yml\n",
      "  warnings.warn(\n"
     ]
    }
   ],
   "source": [
    "# 导入paddlehub和paddle包\n",
    "import paddlehub as hub\n",
    "import paddle"
   ]
  },
  {
   "cell_type": "markdown",
   "metadata": {},
   "source": [
    "## 5.1 加载预训练模型-ERNIE Tiny"
   ]
  },
  {
   "cell_type": "code",
   "execution_count": 21,
   "metadata": {},
   "outputs": [
    {
     "name": "stdout",
     "output_type": "stream",
     "text": [
      "['难过', '愉快', '喜欢', '愤怒', '害怕', '惊讶', '厌恶']\n",
      "{0: '难过', 1: '愉快', 2: '喜欢', 3: '愤怒', 4: '害怕', 5: '惊讶', 6: '厌恶'}\n"
     ]
    }
   ],
   "source": [
    "\n",
    "# 设置要求进行分类的7个情感类别\n",
    "label_list=list(data.label.unique())\n",
    "print(label_list)\n",
    "\n",
    "label_map = { \n",
    "    idx: label_text for idx, label_text in enumerate(label_list)\n",
    "}\n",
    "print(label_map)"
   ]
  },
  {
   "cell_type": "code",
   "execution_count": 22,
   "metadata": {},
   "outputs": [
    {
     "name": "stdout",
     "output_type": "stream",
     "text": [
      "Download https://bj.bcebos.com/paddlehub/paddlehub_dev/ernie_tiny.zip\n",
      "[##################################################] 100.00%\n",
      "Decompress C:\\Users\\ASUS\\.paddlehub\\tmp\\tmpwqsnemtz\\ernie_tiny.zip\n",
      "[##################################################] 100.00%"
     ]
    },
    {
     "name": "stderr",
     "output_type": "stream",
     "text": [
      "\u001b[32m[2025-03-24 16:18:41,398] [    INFO]\u001b[0m - Successfully installed ernie_tiny-2.0.2\u001b[0m\n"
     ]
    },
    {
     "name": "stdout",
     "output_type": "stream",
     "text": [
      "\n"
     ]
    },
    {
     "name": "stderr",
     "output_type": "stream",
     "text": [
      "\u001b[32m[2025-03-24 16:18:41,401] [    INFO]\u001b[0m - Configuration saved in C:\\Users\\ASUS\\.paddlenlp\\models\\ernie-tiny\\config.json\u001b[0m\n",
      "\u001b[32m[2025-03-24 16:18:41,705] [    INFO]\u001b[0m - Downloading https://bj.bcebos.com/paddlenlp/models/transformers/ernie_tiny/ernie_tiny.pdparams\u001b[0m\n",
      "\u001b[32m[2025-03-24 16:18:41,707] [    INFO]\u001b[0m - Downloading ernie_tiny.pdparams from https://bj.bcebos.com/paddlenlp/models/transformers/ernie_tiny/ernie_tiny.pdparams\u001b[0m\n",
      "100%|██████████| 346M/346M [00:45<00:00, 8.00MB/s] \n",
      "\u001b[32m[2025-03-24 16:19:27,848] [    INFO]\u001b[0m - Loading weights file model_state.pdparams from cache at C:\\Users\\ASUS\\.paddlenlp\\models\\ernie-tiny\\model_state.pdparams\u001b[0m\n",
      "\u001b[32m[2025-03-24 16:19:28,091] [    INFO]\u001b[0m - Loaded weights file from disk, setting weights to model.\u001b[0m\n",
      "\u001b[32m[2025-03-24 16:19:28,761] [    INFO]\u001b[0m - All model checkpoint weights were used when initializing ErnieForSequenceClassification.\n",
      "\u001b[0m\n",
      "\u001b[33m[2025-03-24 16:19:28,761] [ WARNING]\u001b[0m - Some weights of ErnieForSequenceClassification were not initialized from the model checkpoint at ernie-tiny and are newly initialized: ['classifier.weight', 'classifier.bias']\n",
      "You should probably TRAIN this model on a down-stream task to be able to use it for predictions and inference.\u001b[0m\n"
     ]
    }
   ],
   "source": [
    "\n",
    "# 只需指定想要使用的模型名称和文本分类的类别数即可完成Fine-tune网络定义，在预训练模型后拼接上一个全连接网络（Full Connected）进行分类\n",
    "# 此处选择ernie_tiny预训练模型并设置微调任务为7分类任务\n",
    "model = hub.Module(name=\"ernie_tiny\", task='seq-cls', num_classes=7, label_map=label_map)"
   ]
  },
  {
   "cell_type": "markdown",
   "metadata": {},
   "source": [
    "hub.Module的参数用法如下：\n",
    "\n",
    "name：模型名称，可以选择ernie，ernie_tiny，bert-base-cased， bert-base-chinese, roberta-wwm-ext，roberta-wwm-ext-large等。\n",
    "task：fine-tune任务。此处为seq-cls，表示文本分类任务。\n",
    "num_classes：表示当前文本分类任务的类别数，根据具体使用的数据集确定，默认为2，需要根据具体分类任务进行选定。"
   ]
  },
  {
   "cell_type": "markdown",
   "metadata": {},
   "source": [
    "在飞桨（PaddlePaddle）的PaddleHub框架中，Fine-tune网络指的是在预训练模型基础上添加的、用于适配具体下游任务的可训练网络层。在您提供的代码示例中，hub.Module通过task='seq-cls'参数自动构建了一个面向序列分类任务的微调网络。"
   ]
  },
  {
   "cell_type": "markdown",
   "metadata": {},
   "source": [
    "当您调用hub.Module并指定task='seq-cls'时，系统会自动构建以下结构：输入文本 → 预训练模型（如Ernie-tiny） → 特征向量（Pooled Output） → 全连接分类层（FC Layer） → 7分类输出\n"
   ]
  },
  {
   "cell_type": "markdown",
   "metadata": {},
   "source": [
    "> 意思就是说这里会自动构建 不需要我们搭建基础模型"
   ]
  },
  {
   "cell_type": "markdown",
   "metadata": {},
   "source": [
    "> 国产深度学习框架还是🐂"
   ]
  },
  {
   "cell_type": "markdown",
   "metadata": {},
   "source": [
    "## 5.2 加载并处理数据"
   ]
  },
  {
   "cell_type": "code",
   "execution_count": 23,
   "metadata": {},
   "outputs": [],
   "source": [
    "# 导入依赖库\n",
    "import os, io, csv\n",
    "from paddlehub.datasets.base_nlp_dataset import InputExample, TextClassificationDataset"
   ]
  },
  {
   "cell_type": "code",
   "execution_count": 29,
   "metadata": {},
   "outputs": [],
   "source": [
    "\n",
    "# 数据集存放位置\n",
    "DATA_DIR=\"\""
   ]
  },
  {
   "cell_type": "code",
   "execution_count": 30,
   "metadata": {},
   "outputs": [
    {
     "name": "stderr",
     "output_type": "stream",
     "text": [
      "\u001b[32m[2025-03-24 16:26:44,733] [    INFO]\u001b[0m - Already cached C:\\Users\\ASUS\\.paddlenlp\\models\\ernie-tiny\\vocab.txt\u001b[0m\n",
      "\u001b[32m[2025-03-24 16:26:44,734] [    INFO]\u001b[0m - Already cached C:\\Users\\ASUS\\.paddlenlp\\models\\ernie-tiny\\spm_cased_simp_sampled.model\u001b[0m\n",
      "\u001b[32m[2025-03-24 16:26:44,734] [    INFO]\u001b[0m - Already cached C:\\Users\\ASUS\\.paddlenlp\\models\\ernie-tiny\\dict.wordseg.pickle\u001b[0m\n",
      "\u001b[32m[2025-03-24 16:26:47,397] [    INFO]\u001b[0m - tokenizer config file saved in C:\\Users\\ASUS\\.paddlenlp\\models\\ernie-tiny\\tokenizer_config.json\u001b[0m\n",
      "\u001b[32m[2025-03-24 16:26:47,399] [    INFO]\u001b[0m - Special tokens file saved in C:\\Users\\ASUS\\.paddlenlp\\models\\ernie-tiny\\special_tokens_map.json\u001b[0m\n",
      "d:\\anaconda\\envs\\motion_py311\\Lib\\site-packages\\paddlenlp\\transformers\\tokenizer_utils_base.py:2293: FutureWarning: The `max_seq_len` argument is deprecated and will be removed in a future version, please use `max_length` instead.\n",
      "  warnings.warn(\n",
      "d:\\anaconda\\envs\\motion_py311\\Lib\\site-packages\\paddlenlp\\transformers\\tokenizer_utils_base.py:1865: UserWarning: Truncation was not explicitly activated but `max_length` is provided a specific value, please use `truncation=True` to explicitly truncate examples to max length. Defaulting to 'longest_first' truncation strategy. If you encode pairs of sequences (GLUE-style) with the tokenizer you can select this strategy more precisely by providing a specific strategy to `truncation`.\n",
      "  warnings.warn(\n",
      "d:\\anaconda\\envs\\motion_py311\\Lib\\site-packages\\paddlenlp\\transformers\\tokenizer_utils_base.py:1878: FutureWarning: The `pad_to_max_length` argument is deprecated and will be removed in a future version, use `padding=True` or `padding='longest'` to pad to the longest sequence in the batch, or use `padding='max_length'` to pad to a max length. In this case, you can give a specific length with `max_length` (e.g. `max_length=45`) or leave max_length to None to pad to the maximal input size of the model (e.g. 512 for Bert).\n",
      "  warnings.warn(\n",
      "\u001b[32m[2025-03-24 16:26:51,465] [    INFO]\u001b[0m - Already cached C:\\Users\\ASUS\\.paddlenlp\\models\\ernie-tiny\\vocab.txt\u001b[0m\n",
      "\u001b[32m[2025-03-24 16:26:51,466] [    INFO]\u001b[0m - Already cached C:\\Users\\ASUS\\.paddlenlp\\models\\ernie-tiny\\spm_cased_simp_sampled.model\u001b[0m\n",
      "\u001b[32m[2025-03-24 16:26:51,467] [    INFO]\u001b[0m - Already cached C:\\Users\\ASUS\\.paddlenlp\\models\\ernie-tiny\\dict.wordseg.pickle\u001b[0m\n",
      "\u001b[32m[2025-03-24 16:26:53,995] [    INFO]\u001b[0m - tokenizer config file saved in C:\\Users\\ASUS\\.paddlenlp\\models\\ernie-tiny\\tokenizer_config.json\u001b[0m\n",
      "\u001b[32m[2025-03-24 16:26:53,996] [    INFO]\u001b[0m - Special tokens file saved in C:\\Users\\ASUS\\.paddlenlp\\models\\ernie-tiny\\special_tokens_map.json\u001b[0m\n",
      "\u001b[32m[2025-03-24 16:26:55,017] [    INFO]\u001b[0m - Already cached C:\\Users\\ASUS\\.paddlenlp\\models\\ernie-tiny\\vocab.txt\u001b[0m\n",
      "\u001b[32m[2025-03-24 16:26:55,017] [    INFO]\u001b[0m - Already cached C:\\Users\\ASUS\\.paddlenlp\\models\\ernie-tiny\\spm_cased_simp_sampled.model\u001b[0m\n",
      "\u001b[32m[2025-03-24 16:26:55,018] [    INFO]\u001b[0m - Already cached C:\\Users\\ASUS\\.paddlenlp\\models\\ernie-tiny\\dict.wordseg.pickle\u001b[0m\n",
      "\u001b[32m[2025-03-24 16:26:57,704] [    INFO]\u001b[0m - tokenizer config file saved in C:\\Users\\ASUS\\.paddlenlp\\models\\ernie-tiny\\tokenizer_config.json\u001b[0m\n",
      "\u001b[32m[2025-03-24 16:26:57,705] [    INFO]\u001b[0m - Special tokens file saved in C:\\Users\\ASUS\\.paddlenlp\\models\\ernie-tiny\\special_tokens_map.json\u001b[0m\n"
     ]
    },
    {
     "name": "stdout",
     "output_type": "stream",
     "text": [
      "text=今天体侧我累到喊小敏,小敏,小敏,等我啊~~~,哈哈,跑完后全身冰凉,但是好开心,跑完啦终于,拖着疲惫的身躯还不忘了来一瓶红牛,仿佛喝了才安心,虽然不喜欢跑步,但是以后会督促自己多运动的~~抱抱酷\tlabel=愉快\n",
      "text=为什么我爱的人不爱我,我不爱的人不理我呢!你们快砰砰理啊!\tlabel=难过\n",
      "text=那么多的事。那么多的人。都好无奈。无能为力。\tlabel=难过\n",
      "text=头真晕\tlabel=愤怒\n",
      "text=听陈医生的稳稳的幸福,总觉得幸福是一件安安静静的事情,是一件简简单单的事情,是发生在每一个人身上的故事!\tlabel=愉快\n",
      "text=我还不够勇敢~去坚持我自己喜欢做的事\tlabel=难过\n",
      "text=大哥我只不过失手没把你打屎你就一口气在我一条小腿上啃五下尼玛大哥你嘴还那么大太不够意思了吧大哥\tlabel=愤怒\n",
      "text=不是我想一个人的,只是现实就这样!鄙视鄙视\tlabel=难过\n",
      "text=娘让我带回家一瓶“飘柔”来,去买的时候,小姑娘一直憋笑,看的难受,就说:大声笑吧,别憋坏了,秃子的心胸都像头顶一样光芒万丈普照世人。小姑娘大笑:哥,你真逗。然后,送了我一个孩子用的水瓶。这算关怀残障人士吗?\tlabel=愉快\n"
     ]
    }
   ],
   "source": [
    "# 对数据进行处理，处理为模型可接受的格式\n",
    "'''\n",
    "    参数说明：\n",
    "        tokenizer：预训练模型对应的分词器（如ErnieTokenizer），用于将文本转为ID序列。\n",
    "        mode：数据集模式，决定加载哪个文件（train/test/valid）。\n",
    "        max_seq_len：最大序列长度，超过此长度的文本会被截断。\n",
    "'''\n",
    "class OCEMOTION(TextClassificationDataset):\n",
    "    def __init__(self, tokenizer, mode='train', max_seq_len=128):\n",
    "        if mode == 'train':\n",
    "            data_file = 'train.csv'  # 训练集\n",
    "        elif mode == 'test':\n",
    "            data_file = 'test.csv'   # 测试集\n",
    "        else:\n",
    "            data_file = 'valid.csv'  # 验证集\n",
    "        \n",
    "        super(OCEMOTION, self).__init__(\n",
    "            base_path=DATA_DIR,\n",
    "            data_file=data_file,\n",
    "            tokenizer=tokenizer,\n",
    "            max_seq_len=max_seq_len,\n",
    "            mode=mode,\n",
    "            is_file_with_header=True,\n",
    "            label_list=label_list\n",
    "            )\n",
    "    '''\n",
    "    基类初始化：调用父类构造方法，传递关键参数：\n",
    "        base_path：数据集根目录路径（需提前定义DATA_DIR变量）。\n",
    "        is_file_with_header：数据文件是否包含标题行（True表示第一行是列名）。\n",
    "        label_list：所有可能的标签列表（如['sadness', 'happiness', ...]）。\n",
    "    '''\n",
    "    # 解析文本文件里的样本\n",
    "    def _read_file(self, input_file, is_file_with_header: bool = False):\n",
    "        if not os.path.exists(input_file):\n",
    "            raise RuntimeError(\"The file {} is not found.\".format(input_file))\n",
    "        else:\n",
    "            with io.open(input_file, \"r\", encoding=\"UTF-8\") as f:\n",
    "                reader = csv.reader(f, delimiter=\"\\t\")\n",
    "                examples = []\n",
    "                seq_id = 0\n",
    "                header = next(reader) if is_file_with_header else None\n",
    "                for line in reader:\n",
    "                    try:\n",
    "                        example = InputExample(guid=seq_id, text_a=line[0], label=line[1])\n",
    "                        seq_id += 1\n",
    "                        examples.append(example)\n",
    "                    except:\n",
    "                        continue\n",
    "                return examples\n",
    "    '''\n",
    "    关键步骤：\n",
    "        1.文件存在性检查：确保数据文件路径有效。\n",
    "        2.打开文件：使用UTF-8编码读取，避免中文乱码。\n",
    "        3.CSV解析：假设数据格式为文本\\t标签（例如：\"今天很开心\\thappiness\"）。\n",
    "        4.跳过标题行：当is_file_with_header=True时，用next(reader)跳过首行。\n",
    "        5.构建样本对象：\n",
    "            InputExample是PaddleHub定义的样本类，包含：\n",
    "            guid：唯一标识符（此处用自增ID）。\n",
    "            text_a：输入文本（对应line[0]）。\n",
    "            label：标签值（对应line[1]）。\n",
    "        6. 异常处理：遇到格式错误的行（如列数不足）时跳过。\n",
    "    '''  \n",
    "# 数据集实例化\n",
    "'''\n",
    "参数传递：\n",
    "    model.get_tokenizer()：获取预训练模型对应的分词器（如ErnieTokenizer）。\n",
    "    max_seq_len=128：设定序列最大长度为128（ERNIE模型最大支持512）。\n",
    "实际处理流程（由基类完成）：\n",
    "    分词：将文本转为token IDs（例如：\"你好\" → [101, 872, 1962, 102]）。\n",
    "    序列填充/截断：长度不足128的补0，超过的截断。\n",
    "    生成Attention Mask：标识哪些位置是有效token。\n",
    "    标签映射：将字符串标签转为数字索引（如'happiness' → 1）。\n",
    "'''\n",
    "train_dataset = OCEMOTION(model.get_tokenizer(), mode='train', max_seq_len=128)  # max_seq_len根据具体文本长度进行确定，但需注意max_seq_len最长不超过512\n",
    "dev_dataset = OCEMOTION(model.get_tokenizer(), mode='dev', max_seq_len=128)\n",
    "test_dataset = OCEMOTION(model.get_tokenizer(), mode='test', max_seq_len=128)\n",
    "# 预览数据\n",
    "# 查看训练集前3条\n",
    "for e in train_dataset.examples[:3]:\n",
    "    print(e)\n",
    "# 查看验证集前3条\n",
    "for e in dev_dataset.examples[:3]:\n",
    "    print(e)\n",
    "# 查看测试集前3条\n",
    "for e in test_dataset.examples[:3]:\n",
    "    print(e)"
   ]
  },
  {
   "cell_type": "markdown",
   "metadata": {},
   "source": [
    "## 5.3 选择优化策略和运行配置"
   ]
  },
  {
   "cell_type": "code",
   "execution_count": 31,
   "metadata": {},
   "outputs": [],
   "source": [
    "# 优化器的选择，此处使用了AdamW优化器\n",
    "optimizer = paddle.optimizer.AdamW(learning_rate=4e-5, parameters=model.parameters())"
   ]
  },
  {
   "cell_type": "code",
   "execution_count": 32,
   "metadata": {},
   "outputs": [
    {
     "name": "stderr",
     "output_type": "stream",
     "text": [
      "\u001b[33m[2025-03-24 16:28:03,395] [ WARNING]\u001b[0m - PaddleHub model checkpoint not found, start from scratch...\u001b[0m\n"
     ]
    }
   ],
   "source": [
    "# 运行配置\n",
    "trainer = hub.Trainer(model, optimizer, checkpoint_dir='./ckpt', use_gpu=True, use_vdl=True)      # fine-tune任务的执行者"
   ]
  },
  {
   "cell_type": "markdown",
   "metadata": {},
   "source": [
    "Trainer 主要控制Fine-tune任务的训练，是任务的发起者，包含以下可控制的参数:\n",
    "\n",
    "model: 被优化模型；\n",
    "optimizer: 优化器选择；\n",
    "use_gpu: 是否使用gpu训练；\n",
    "use_vdl: 是否使用vdl可视化训练过程；\n",
    "checkpoint_dir: 保存模型参数的地址；\n",
    "compare_metrics: 保存最优模型的衡量指标；"
   ]
  },
  {
   "cell_type": "markdown",
   "metadata": {},
   "source": [
    "## 5.4 模型训练和验证"
   ]
  },
  {
   "cell_type": "code",
   "execution_count": 33,
   "metadata": {},
   "outputs": [
    {
     "name": "stderr",
     "output_type": "stream",
     "text": [
      "\u001b[36m[2025-03-24 16:32:07,606] [   TRAIN]\u001b[0m - Epoch=1/5, Step=10/90 loss=1.6665 acc=0.3578 lr=0.000040 step/sec=0.19 | ETA 00:39:47\u001b[0m\n",
      "\u001b[36m[2025-03-24 16:32:50,472] [   TRAIN]\u001b[0m - Epoch=1/5, Step=20/90 loss=1.4778 acc=0.4434 lr=0.000040 step/sec=0.23 | ETA 00:35:58\u001b[0m\n",
      "\u001b[36m[2025-03-24 16:33:29,877] [   TRAIN]\u001b[0m - Epoch=1/5, Step=30/90 loss=1.3723 acc=0.4906 lr=0.000040 step/sec=0.25 | ETA 00:33:49\u001b[0m\n",
      "\u001b[36m[2025-03-24 16:34:09,374] [   TRAIN]\u001b[0m - Epoch=1/5, Step=40/90 loss=1.2747 acc=0.5273 lr=0.000040 step/sec=0.25 | ETA 00:32:46\u001b[0m\n",
      "\u001b[36m[2025-03-24 16:34:50,178] [   TRAIN]\u001b[0m - Epoch=1/5, Step=50/90 loss=1.2523 acc=0.5352 lr=0.000040 step/sec=0.25 | ETA 00:32:20\u001b[0m\n",
      "\u001b[36m[2025-03-24 16:35:31,005] [   TRAIN]\u001b[0m - Epoch=1/5, Step=60/90 loss=1.2327 acc=0.5449 lr=0.000040 step/sec=0.24 | ETA 00:32:03\u001b[0m\n",
      "\u001b[36m[2025-03-24 16:36:11,301] [   TRAIN]\u001b[0m - Epoch=1/5, Step=70/90 loss=1.1717 acc=0.5699 lr=0.000040 step/sec=0.25 | ETA 00:31:47\u001b[0m\n",
      "\u001b[36m[2025-03-24 16:36:52,894] [   TRAIN]\u001b[0m - Epoch=1/5, Step=80/90 loss=1.1971 acc=0.5535 lr=0.000040 step/sec=0.24 | ETA 00:31:43\u001b[0m\n",
      "\u001b[36m[2025-03-24 16:37:30,638] [   TRAIN]\u001b[0m - Epoch=1/5, Step=90/90 loss=1.1541 acc=0.5768 lr=0.000040 step/sec=0.26 | ETA 00:31:20\u001b[0m\n",
      "\u001b[34m[2025-03-24 16:37:37,488] [    EVAL]\u001b[0m - [Evaluation result] avg_acc=0.5855\u001b[0mm\n",
      "\u001b[34m[2025-03-24 16:37:40,634] [    EVAL]\u001b[0m - Saving best model to ./ckpt\\best_model [best acc=0.5855]\u001b[0m\n",
      "\u001b[32m[2025-03-24 16:37:40,635] [    INFO]\u001b[0m - Saving model checkpoint to ./ckpt\\epoch_1\u001b[0m\n",
      "\u001b[36m[2025-03-24 16:38:23,713] [   TRAIN]\u001b[0m - Epoch=2/5, Step=10/90 loss=1.1226 acc=0.5773 lr=0.000040 step/sec=0.19 | ETA 00:32:11\u001b[0m\n",
      "\u001b[36m[2025-03-24 16:39:06,038] [   TRAIN]\u001b[0m - Epoch=2/5, Step=20/90 loss=1.1266 acc=0.5820 lr=0.000040 step/sec=0.24 | ETA 00:32:08\u001b[0m\n",
      "\u001b[36m[2025-03-24 16:39:49,952] [   TRAIN]\u001b[0m - Epoch=2/5, Step=30/90 loss=1.0646 acc=0.6137 lr=0.000040 step/sec=0.23 | ETA 00:32:12\u001b[0m\n",
      "\u001b[36m[2025-03-24 16:40:31,015] [   TRAIN]\u001b[0m - Epoch=2/5, Step=40/90 loss=1.0527 acc=0.6203 lr=0.000040 step/sec=0.24 | ETA 00:32:06\u001b[0m\n",
      "\u001b[36m[2025-03-24 16:41:10,191] [   TRAIN]\u001b[0m - Epoch=2/5, Step=50/90 loss=1.0639 acc=0.6129 lr=0.000040 step/sec=0.26 | ETA 00:31:54\u001b[0m\n",
      "\u001b[36m[2025-03-24 16:41:50,553] [   TRAIN]\u001b[0m - Epoch=2/5, Step=60/90 loss=1.1021 acc=0.6031 lr=0.000040 step/sec=0.25 | ETA 00:31:47\u001b[0m\n",
      "\u001b[36m[2025-03-24 16:42:29,556] [   TRAIN]\u001b[0m - Epoch=2/5, Step=70/90 loss=1.0654 acc=0.6164 lr=0.000040 step/sec=0.26 | ETA 00:31:38\u001b[0m\n",
      "\u001b[36m[2025-03-24 16:43:11,313] [   TRAIN]\u001b[0m - Epoch=2/5, Step=80/90 loss=1.0913 acc=0.5965 lr=0.000040 step/sec=0.24 | ETA 00:31:37\u001b[0m\n",
      "\u001b[36m[2025-03-24 16:43:48,907] [   TRAIN]\u001b[0m - Epoch=2/5, Step=90/90 loss=1.0681 acc=0.6269 lr=0.000040 step/sec=0.27 | ETA 00:31:25\u001b[0m\n",
      "\u001b[34m[2025-03-24 16:43:55,741] [    EVAL]\u001b[0m - [Evaluation result] avg_acc=0.6034\u001b[0mm\n",
      "\u001b[34m[2025-03-24 16:43:59,084] [    EVAL]\u001b[0m - Saving best model to ./ckpt\\best_model [best acc=0.6034]\u001b[0m\n",
      "\u001b[32m[2025-03-24 16:43:59,085] [    INFO]\u001b[0m - Saving model checkpoint to ./ckpt\\epoch_2\u001b[0m\n",
      "\u001b[36m[2025-03-24 16:44:47,008] [   TRAIN]\u001b[0m - Epoch=3/5, Step=10/90 loss=0.9658 acc=0.6551 lr=0.000040 step/sec=0.17 | ETA 00:32:04\u001b[0m\n",
      "\u001b[36m[2025-03-24 16:45:30,281] [   TRAIN]\u001b[0m - Epoch=3/5, Step=20/90 loss=1.0221 acc=0.6410 lr=0.000040 step/sec=0.23 | ETA 00:32:05\u001b[0m\n",
      "\u001b[36m[2025-03-24 16:46:14,814] [   TRAIN]\u001b[0m - Epoch=3/5, Step=30/90 loss=0.9293 acc=0.6719 lr=0.000040 step/sec=0.22 | ETA 00:32:09\u001b[0m\n",
      "\u001b[36m[2025-03-24 16:47:00,883] [   TRAIN]\u001b[0m - Epoch=3/5, Step=40/90 loss=0.9450 acc=0.6645 lr=0.000040 step/sec=0.22 | ETA 00:32:15\u001b[0m\n",
      "\u001b[36m[2025-03-24 16:47:47,076] [   TRAIN]\u001b[0m - Epoch=3/5, Step=50/90 loss=0.9718 acc=0.6539 lr=0.000040 step/sec=0.22 | ETA 00:32:21\u001b[0m\n",
      "\u001b[36m[2025-03-24 16:48:29,805] [   TRAIN]\u001b[0m - Epoch=3/5, Step=60/90 loss=0.9698 acc=0.6480 lr=0.000040 step/sec=0.23 | ETA 00:32:21\u001b[0m\n",
      "\u001b[36m[2025-03-24 16:49:15,434] [   TRAIN]\u001b[0m - Epoch=3/5, Step=70/90 loss=0.9851 acc=0.6445 lr=0.000040 step/sec=0.22 | ETA 00:32:25\u001b[0m\n",
      "\u001b[36m[2025-03-24 16:50:00,748] [   TRAIN]\u001b[0m - Epoch=3/5, Step=80/90 loss=0.9501 acc=0.6684 lr=0.000040 step/sec=0.22 | ETA 00:32:29\u001b[0m\n",
      "\u001b[36m[2025-03-24 16:50:41,397] [   TRAIN]\u001b[0m - Epoch=3/5, Step=90/90 loss=0.9292 acc=0.6639 lr=0.000040 step/sec=0.25 | ETA 00:32:24\u001b[0m\n",
      "\u001b[34m[2025-03-24 16:50:48,245] [    EVAL]\u001b[0m - [Evaluation result] avg_acc=0.6051\u001b[0mm\n",
      "\u001b[34m[2025-03-24 16:50:52,284] [    EVAL]\u001b[0m - Saving best model to ./ckpt\\best_model [best acc=0.6051]\u001b[0m\n",
      "\u001b[32m[2025-03-24 16:50:52,285] [    INFO]\u001b[0m - Saving model checkpoint to ./ckpt\\epoch_3\u001b[0m\n",
      "\u001b[36m[2025-03-24 16:51:43,351] [   TRAIN]\u001b[0m - Epoch=4/5, Step=10/90 loss=0.8844 acc=0.6895 lr=0.000040 step/sec=0.16 | ETA 00:32:54\u001b[0m\n",
      "\u001b[36m[2025-03-24 16:52:27,089] [   TRAIN]\u001b[0m - Epoch=4/5, Step=20/90 loss=0.8412 acc=0.7012 lr=0.000040 step/sec=0.23 | ETA 00:32:54\u001b[0m\n",
      "\u001b[36m[2025-03-24 16:53:10,011] [   TRAIN]\u001b[0m - Epoch=4/5, Step=30/90 loss=0.8444 acc=0.7023 lr=0.000040 step/sec=0.23 | ETA 00:32:53\u001b[0m\n",
      "\u001b[36m[2025-03-24 16:53:53,899] [   TRAIN]\u001b[0m - Epoch=4/5, Step=40/90 loss=0.8744 acc=0.6934 lr=0.000040 step/sec=0.23 | ETA 00:32:53\u001b[0m\n",
      "\u001b[36m[2025-03-24 16:54:38,182] [   TRAIN]\u001b[0m - Epoch=4/5, Step=50/90 loss=0.8517 acc=0.6937 lr=0.000040 step/sec=0.23 | ETA 00:32:53\u001b[0m\n",
      "\u001b[36m[2025-03-24 16:55:22,677] [   TRAIN]\u001b[0m - Epoch=4/5, Step=60/90 loss=0.8615 acc=0.6883 lr=0.000040 step/sec=0.22 | ETA 00:32:54\u001b[0m\n",
      "\u001b[36m[2025-03-24 16:56:06,805] [   TRAIN]\u001b[0m - Epoch=4/5, Step=70/90 loss=0.8454 acc=0.6953 lr=0.000040 step/sec=0.23 | ETA 00:32:55\u001b[0m\n",
      "\u001b[36m[2025-03-24 16:56:48,582] [   TRAIN]\u001b[0m - Epoch=4/5, Step=80/90 loss=0.8749 acc=0.6977 lr=0.000040 step/sec=0.24 | ETA 00:32:52\u001b[0m\n",
      "\u001b[36m[2025-03-24 16:57:30,275] [   TRAIN]\u001b[0m - Epoch=4/5, Step=90/90 loss=0.8340 acc=0.7038 lr=0.000040 step/sec=0.24 | ETA 00:32:49\u001b[0m\n",
      "\u001b[34m[2025-03-24 16:57:37,134] [    EVAL]\u001b[0m - [Evaluation result] avg_acc=0.6027\u001b[0mm\n",
      "\u001b[32m[2025-03-24 16:57:37,134] [    INFO]\u001b[0m - Saving model checkpoint to ./ckpt\\epoch_4\u001b[0m\n",
      "\u001b[36m[2025-03-24 16:58:28,271] [   TRAIN]\u001b[0m - Epoch=5/5, Step=10/90 loss=0.7367 acc=0.7441 lr=0.000040 step/sec=0.17 | ETA 00:33:06\u001b[0m\n",
      "\u001b[36m[2025-03-24 16:59:14,169] [   TRAIN]\u001b[0m - Epoch=5/5, Step=20/90 loss=0.7114 acc=0.7496 lr=0.000040 step/sec=0.22 | ETA 00:33:09\u001b[0m\n",
      "\u001b[36m[2025-03-24 16:59:58,093] [   TRAIN]\u001b[0m - Epoch=5/5, Step=30/90 loss=0.6751 acc=0.7668 lr=0.000040 step/sec=0.23 | ETA 00:33:08\u001b[0m\n",
      "\u001b[36m[2025-03-24 17:00:43,056] [   TRAIN]\u001b[0m - Epoch=5/5, Step=40/90 loss=0.7187 acc=0.7496 lr=0.000040 step/sec=0.22 | ETA 00:33:09\u001b[0m\n",
      "\u001b[36m[2025-03-24 17:01:25,649] [   TRAIN]\u001b[0m - Epoch=5/5, Step=50/90 loss=0.6956 acc=0.7582 lr=0.000040 step/sec=0.23 | ETA 00:33:07\u001b[0m\n",
      "\u001b[36m[2025-03-24 17:02:08,051] [   TRAIN]\u001b[0m - Epoch=5/5, Step=60/90 loss=0.7466 acc=0.7379 lr=0.000040 step/sec=0.24 | ETA 00:33:05\u001b[0m\n",
      "\u001b[36m[2025-03-24 17:02:50,568] [   TRAIN]\u001b[0m - Epoch=5/5, Step=70/90 loss=0.7321 acc=0.7422 lr=0.000040 step/sec=0.24 | ETA 00:33:04\u001b[0m\n",
      "\u001b[36m[2025-03-24 17:03:34,394] [   TRAIN]\u001b[0m - Epoch=5/5, Step=80/90 loss=0.7283 acc=0.7445 lr=0.000040 step/sec=0.23 | ETA 00:33:03\u001b[0m\n",
      "\u001b[36m[2025-03-24 17:04:13,715] [   TRAIN]\u001b[0m - Epoch=5/5, Step=90/90 loss=0.7288 acc=0.7442 lr=0.000040 step/sec=0.25 | ETA 00:32:59\u001b[0m\n",
      "\u001b[34m[2025-03-24 17:04:20,539] [    EVAL]\u001b[0m - [Evaluation result] avg_acc=0.5943\u001b[0mm\n",
      "\u001b[32m[2025-03-24 17:04:20,540] [    INFO]\u001b[0m - Saving model checkpoint to ./ckpt\\epoch_5\u001b[0m\n"
     ]
    }
   ],
   "source": [
    "trainer.train(train_dataset, epochs=5, batch_size=256, eval_dataset=dev_dataset, save_interval=1)   # 配置训练参数，启动训练，并指定验证集。"
   ]
  },
  {
   "cell_type": "markdown",
   "metadata": {},
   "source": [
    "trainer.train 主要控制具体的训练过程，包含以下可控制的参数：\n",
    "\n",
    "train_dataset: 训练时所用的数据集；\n",
    "epochs: 训练轮数；\n",
    "batch_size: 训练的批大小，如果使用GPU，请根据实际情况调整batch_size；\n",
    "num_workers: works的数量，默认为0；\n",
    "eval_dataset: 验证集；\n",
    "log_interval: 打印日志的间隔， 单位为执行批训练的次数。\n",
    "save_interval: 保存模型的间隔频次，单位为执行训练的轮数。"
   ]
  },
  {
   "cell_type": "markdown",
   "metadata": {},
   "source": [
    "## 5.5 在测试集上评估当前训练模型"
   ]
  },
  {
   "cell_type": "code",
   "execution_count": 34,
   "metadata": {},
   "outputs": [
    {
     "name": "stderr",
     "output_type": "stream",
     "text": [
      "\u001b[34m[2025-03-24 17:13:19,126] [    EVAL]\u001b[0m - [Evaluation result] avg_acc=0.5770\u001b[0mm\n"
     ]
    }
   ],
   "source": [
    "# 在测试集上评估当前训练模型\n",
    "result = trainer.evaluate(test_dataset, batch_size=128) "
   ]
  },
  {
   "cell_type": "code",
   "execution_count": 35,
   "metadata": {},
   "outputs": [
    {
     "name": "stderr",
     "output_type": "stream",
     "text": [
      "\u001b[32m[2025-03-24 17:13:26,725] [    INFO]\u001b[0m - Already cached C:\\Users\\ASUS\\.paddlenlp\\models\\ernie-tiny\\vocab.txt\u001b[0m\n",
      "\u001b[32m[2025-03-24 17:13:26,726] [    INFO]\u001b[0m - Already cached C:\\Users\\ASUS\\.paddlenlp\\models\\ernie-tiny\\spm_cased_simp_sampled.model\u001b[0m\n",
      "\u001b[32m[2025-03-24 17:13:26,727] [    INFO]\u001b[0m - Already cached C:\\Users\\ASUS\\.paddlenlp\\models\\ernie-tiny\\dict.wordseg.pickle\u001b[0m\n",
      "\u001b[32m[2025-03-24 17:13:29,537] [    INFO]\u001b[0m - tokenizer config file saved in C:\\Users\\ASUS\\.paddlenlp\\models\\ernie-tiny\\tokenizer_config.json\u001b[0m\n",
      "\u001b[32m[2025-03-24 17:13:29,538] [    INFO]\u001b[0m - Special tokens file saved in C:\\Users\\ASUS\\.paddlenlp\\models\\ernie-tiny\\special_tokens_map.json\u001b[0m\n",
      "d:\\anaconda\\envs\\motion_py311\\Lib\\site-packages\\paddlenlp\\transformers\\tokenizer_utils_base.py:2293: FutureWarning: The `max_seq_len` argument is deprecated and will be removed in a future version, please use `max_length` instead.\n",
      "  warnings.warn(\n",
      "d:\\anaconda\\envs\\motion_py311\\Lib\\site-packages\\paddlenlp\\transformers\\tokenizer_utils_base.py:1865: UserWarning: Truncation was not explicitly activated but `max_length` is provided a specific value, please use `truncation=True` to explicitly truncate examples to max length. Defaulting to 'longest_first' truncation strategy. If you encode pairs of sequences (GLUE-style) with the tokenizer you can select this strategy more precisely by providing a specific strategy to `truncation`.\n",
      "  warnings.warn(\n",
      "d:\\anaconda\\envs\\motion_py311\\Lib\\site-packages\\paddlenlp\\transformers\\tokenizer_utils_base.py:1878: FutureWarning: The `pad_to_max_length` argument is deprecated and will be removed in a future version, use `padding=True` or `padding='longest'` to pad to the longest sequence in the batch, or use `padding='max_length'` to pad to a max length. In this case, you can give a specific length with `max_length` (e.g. `max_length=45`) or leave max_length to None to pad to the maximal input size of the model (e.g. 512 for Bert).\n",
      "  warnings.warn(\n"
     ]
    },
    {
     "name": "stdout",
     "output_type": "stream",
     "text": [
      "0.4859617669967739 0.5278761375492939 0.4676521187022796\n"
     ]
    }
   ],
   "source": [
    "\n",
    "# 进阶扩展： 使用F1-score指标对测试集上效果进行更官方的评测\n",
    "import numpy as np\n",
    "# 读取测试集文件\n",
    "df = pd.read_csv('./test.csv',sep = '\\t')\n",
    "\n",
    "news1 = pd.DataFrame(columns=['label'])\n",
    "news1['label'] = df[\"label\"]\n",
    "news = pd.DataFrame(columns=['text_a'])\n",
    "news['text_a'] = df[\"text_a\"]\n",
    "\n",
    "# 首先将pandas读取的数据转化为array\n",
    "data_array = np.array(news)\n",
    "# 然后转化为list形式\n",
    "data_list =data_array.tolist()\n",
    "\n",
    "# 对测试集进行预测得到预测的类别标签\n",
    "y_pre = model.predict(data_list, max_seq_len=128, batch_size=128, use_gpu=True)\n",
    "\n",
    "# 测试集的真实类别标签\n",
    "data_array1 = np.array(news1)\n",
    "y_val =data_array1.tolist()\n",
    "\n",
    "# 计算预测结果的F1-score\n",
    "from sklearn.metrics import precision_recall_fscore_support,f1_score,precision_score,recall_score\n",
    "f1 = f1_score(y_val, y_pre, average='macro')\n",
    "p = precision_score(y_val, y_pre, average='macro')\n",
    "r = recall_score(y_val, y_pre, average='macro')\n",
    "print(f1, p, r)"
   ]
  },
  {
   "cell_type": "markdown",
   "metadata": {},
   "source": [
    "## 5.6 模型预测"
   ]
  },
  {
   "cell_type": "code",
   "execution_count": 36,
   "metadata": {},
   "outputs": [
    {
     "name": "stderr",
     "output_type": "stream",
     "text": [
      "\u001b[32m[2025-03-24 17:14:23,377] [    INFO]\u001b[0m - Already cached C:\\Users\\ASUS\\.paddlenlp\\models\\ernie-tiny\\model_state.pdparams\u001b[0m\n",
      "\u001b[32m[2025-03-24 17:14:23,377] [    INFO]\u001b[0m - Loading weights file model_state.pdparams from cache at C:\\Users\\ASUS\\.paddlenlp\\models\\ernie-tiny\\model_state.pdparams\u001b[0m\n",
      "\u001b[32m[2025-03-24 17:14:23,741] [    INFO]\u001b[0m - Loaded weights file from disk, setting weights to model.\u001b[0m\n",
      "\u001b[32m[2025-03-24 17:14:24,248] [    INFO]\u001b[0m - All model checkpoint weights were used when initializing ErnieForSequenceClassification.\n",
      "\u001b[0m\n",
      "\u001b[33m[2025-03-24 17:14:24,249] [ WARNING]\u001b[0m - Some weights of ErnieForSequenceClassification were not initialized from the model checkpoint at ernie-tiny and are newly initialized: ['classifier.weight', 'classifier.bias']\n",
      "You should probably TRAIN this model on a down-stream task to be able to use it for predictions and inference.\u001b[0m\n",
      "\u001b[32m[2025-03-24 17:14:24,802] [    INFO]\u001b[0m - Loaded parameters from d:\\vscodeprojects\\trysth\\motion_classify\\ckpt\\best_model\\model.pdparams\u001b[0m\n",
      "\u001b[32m[2025-03-24 17:14:24,807] [    INFO]\u001b[0m - Already cached C:\\Users\\ASUS\\.paddlenlp\\models\\ernie-tiny\\vocab.txt\u001b[0m\n",
      "\u001b[32m[2025-03-24 17:14:24,809] [    INFO]\u001b[0m - Already cached C:\\Users\\ASUS\\.paddlenlp\\models\\ernie-tiny\\spm_cased_simp_sampled.model\u001b[0m\n",
      "\u001b[32m[2025-03-24 17:14:24,809] [    INFO]\u001b[0m - Already cached C:\\Users\\ASUS\\.paddlenlp\\models\\ernie-tiny\\dict.wordseg.pickle\u001b[0m\n",
      "\u001b[32m[2025-03-24 17:14:27,661] [    INFO]\u001b[0m - tokenizer config file saved in C:\\Users\\ASUS\\.paddlenlp\\models\\ernie-tiny\\tokenizer_config.json\u001b[0m\n",
      "\u001b[32m[2025-03-24 17:14:27,662] [    INFO]\u001b[0m - Special tokens file saved in C:\\Users\\ASUS\\.paddlenlp\\models\\ernie-tiny\\special_tokens_map.json\u001b[0m\n"
     ]
    },
    {
     "name": "stdout",
     "output_type": "stream",
     "text": [
      "Data: 你也不用说对不起,只是若相惜 \t Lable: 难过\n",
      "Data: 幸福其实很简单 \t Lable: 愉快\n",
      "Data: 恐惧感啊。生病 \t Lable: 害怕\n",
      "Data: 待你长发及腰,我们一起耕耘时光。我愿等待 \t Lable: 喜欢\n"
     ]
    },
    {
     "name": "stderr",
     "output_type": "stream",
     "text": [
      "d:\\anaconda\\envs\\motion_py311\\Lib\\site-packages\\paddlenlp\\transformers\\tokenizer_utils_base.py:2293: FutureWarning: The `max_seq_len` argument is deprecated and will be removed in a future version, please use `max_length` instead.\n",
      "  warnings.warn(\n",
      "d:\\anaconda\\envs\\motion_py311\\Lib\\site-packages\\paddlenlp\\transformers\\tokenizer_utils_base.py:1865: UserWarning: Truncation was not explicitly activated but `max_length` is provided a specific value, please use `truncation=True` to explicitly truncate examples to max length. Defaulting to 'longest_first' truncation strategy. If you encode pairs of sequences (GLUE-style) with the tokenizer you can select this strategy more precisely by providing a specific strategy to `truncation`.\n",
      "  warnings.warn(\n",
      "d:\\anaconda\\envs\\motion_py311\\Lib\\site-packages\\paddlenlp\\transformers\\tokenizer_utils_base.py:1878: FutureWarning: The `pad_to_max_length` argument is deprecated and will be removed in a future version, use `padding=True` or `padding='longest'` to pad to the longest sequence in the batch, or use `padding='max_length'` to pad to a max length. In this case, you can give a specific length with `max_length` (e.g. `max_length=45`) or leave max_length to None to pad to the maximal input size of the model (e.g. 512 for Bert).\n",
      "  warnings.warn(\n"
     ]
    }
   ],
   "source": [
    "# 要进行预测的数据\n",
    "data = [\n",
    "    # 难过\n",
    "    [\"你也不用说对不起,只是若相惜\"],\n",
    "    # 愉快\n",
    "    [\"幸福其实很简单\"],\n",
    "    # 害怕\n",
    "    [\"恐惧感啊。生病\"],\n",
    "    # 喜欢\n",
    "    [\"待你长发及腰,我们一起耕耘时光。我愿等待\"]\n",
    "]\n",
    "\n",
    "# 定义要进行情感分类的7个类别\n",
    "label_list=['难过', '愉快', '喜欢', '愤怒', '害怕', '惊讶', '厌恶']\n",
    "label_map = {\n",
    "    idx: label_text for idx, label_text in enumerate(label_list)\n",
    "}\n",
    "\n",
    "# 加载训练好的模型\n",
    "model = hub.Module(\n",
    "    name='ernie_tiny',\n",
    "    task='seq-cls',\n",
    "    num_classes=7,\n",
    "    load_checkpoint='./ckpt/best_model/model.pdparams',\n",
    "    label_map=label_map)\n",
    "\n",
    "# 进行模型预测\n",
    "results = model.predict(data, max_seq_len=128, batch_size=1, use_gpu=True)\n",
    "for idx, text in enumerate(data):\n",
    "    print('Data: {} \\t Lable: {}'.format(text[0], results[idx]))"
   ]
  },
  {
   "cell_type": "markdown",
   "metadata": {},
   "source": [
    "环境导出"
   ]
  },
  {
   "cell_type": "code",
   "execution_count": null,
   "metadata": {},
   "outputs": [
    {
     "name": "stderr",
     "output_type": "stream",
     "text": [
      "INFO: Not scanning for jupyter notebooks.\n",
      "INFO: Successfully saved requirements file in ./requirements.txt\n"
     ]
    }
   ],
   "source": [
    "!pipreqs ./ --encoding=utf8 --force\n",
    "# 不过这个不能用于ipynb"
   ]
  },
  {
   "cell_type": "code",
   "execution_count": null,
   "metadata": {},
   "outputs": [],
   "source": [
    "# pip freeze > requirements.txt\n",
    "# 这个会让当前环境的所有都导出"
   ]
  },
  {
   "cell_type": "markdown",
   "metadata": {},
   "source": [
    "1.将ipynb变成.py\n",
    "> 根目录终端输入jupyter nbconvert --to script *.ipynb\n",
    "\n",
    "2.进行转换\n",
    "> pipreqs ./ --encoding=utf8 --force"
   ]
  },
  {
   "cell_type": "code",
   "execution_count": null,
   "metadata": {},
   "outputs": [],
   "source": []
  }
 ],
 "metadata": {
  "kernelspec": {
   "display_name": "Python 3",
   "language": "python",
   "name": "python3"
  },
  "language_info": {
   "codemirror_mode": {
    "name": "ipython",
    "version": 3
   },
   "file_extension": ".py",
   "mimetype": "text/x-python",
   "name": "python",
   "nbconvert_exporter": "python",
   "pygments_lexer": "ipython3",
   "version": "3.11.11"
  }
 },
 "nbformat": 4,
 "nbformat_minor": 2
}
